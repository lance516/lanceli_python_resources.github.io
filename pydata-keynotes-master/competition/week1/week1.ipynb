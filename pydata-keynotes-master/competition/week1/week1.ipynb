{
 "cells": [
  {
   "cell_type": "markdown",
   "metadata": {},
   "source": [
    "# Week 1 - 競賽準備\n",
    "\n",
    "## 上屆資源參考\n",
    "\n",
    "網址：https://www.cpttm.org.mo/ist/it-competitions/python-competition/1st/\n",
    "\n",
    "## 主要範圍\n",
    "\n",
    "- ~~Python 基本語法~~\n",
    "- ~~循環使用~~\n",
    "- ~~條件使用~~\n",
    "- ~~序列與基本數據結構~~\n",
    "- ~~基本純文字檔案讀寫~~\n",
    "- ~~基本物件導向編程~~\n",
    "- 常用內置程序庫，如日期時間、JSON、CSV 等\n",
    "- 常用第三方數據處理庫 Pandas、NumPy 的基本使用\n",
    "- 常用第三方爬蟲庫，如 ~~Beautiful Soup~~、Selenium、Untangle 等\n",
    "- 第三方繪圖庫 Matplotlib 的基本應用"
   ]
  },
  {
   "cell_type": "markdown",
   "metadata": {},
   "source": [
    "## 優先次序\n",
    "\n",
    "- ❗️❗️❗️Pandas - 基本上已可以讀取/輸出 JSON, CSV, Excel 等資料格式，如有時間可以研究內置的程序庫如何讀取\n",
    "- ❗️❗️❗️Matplotlib - 沒有其他可以代替，必須要有認識\n",
    "- ❗️❗️時間 Library - 時間的計算十分常用，必須要有認識 (文字轉換成 datetime 類型、datetime 類型轉換為文字、加減年月日)\n",
    "- ❗️❗️NumPy - 輔助 Pandas 做計算，內置方便的函數\n",
    "- ❗️Selenium - \n",
    "- ❗️Untangle - 如無時間可以學習使用 Beautiful Soup 代替其功能"
   ]
  },
  {
   "cell_type": "markdown",
   "metadata": {},
   "source": [
    "## 如何分辨何時使用 Beautiful Soup / Selenium\n",
    "\n",
    "- 如果需要找尋的內容可以在 View Source 中找到，使用 Beautiful Soup；\n",
    "- 如果打開 View Source 只有基本的 Html / Body / Script Tag (即網頁是用 JavaScript 生成，則必須用 Selenium)"
   ]
  },
  {
   "cell_type": "markdown",
   "metadata": {},
   "source": [
    "## 題目注意事項\n",
    "\n",
    "1. 七日天氣\n",
    "\n",
    "天文台網址請用以下網址代替:\n",
    "\n",
    "7日天氣: https://xml.smg.gov.mo/c_7daysforecast.xml  \n",
    "Weather Status: https://xml.smg.gov.mo/"
   ]
  }
 ],
 "metadata": {
  "interpreter": {
   "hash": "aee8b7b246df8f9039afb4144a1f6fd8d2ca17a180786b69acc140d282b71a49"
  },
  "kernelspec": {
   "display_name": "Python 3.9.7 64-bit",
   "language": "python",
   "name": "python3"
  },
  "language_info": {
   "codemirror_mode": {
    "name": "ipython",
    "version": 3
   },
   "file_extension": ".py",
   "mimetype": "text/x-python",
   "name": "python",
   "nbconvert_exporter": "python",
   "pygments_lexer": "ipython3",
   "version": "3.9.7"
  },
  "orig_nbformat": 4
 },
 "nbformat": 4,
 "nbformat_minor": 2
}
