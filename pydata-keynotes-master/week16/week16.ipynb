{
  "cells": [
    {
      "cell_type": "markdown",
      "metadata": {},
      "source": [
        "# Python & Data - Week 16\n",
        "\n",
        "## 格式與資料交換 (下)\n",
        "\n",
        "1. XML 格式介紹\n",
        "2. JSON 格式介紹"
      ]
    },
    {
      "cell_type": "markdown",
      "metadata": {},
      "source": [
        "## XML 是甚麼?\n",
        "\n",
        "- XML 與 HTML 具有相類似的語法\n",
        "- 歷史上是由 HTML 變化出來\n",
        "- XML 是一種較一般化的格式。一般而言，在 XML 所定義的 Tag 沒有特別意思\n",
        "- XML 是早期電腦系統之間用於交換資料的其中一種共通語言\n",
        "\n",
        "### 例如：\n",
        "\n",
        "我們有一個用戶資料表，用戶資料表中有多個用戶 (User):\n",
        "\n",
        "```\n",
        "用戶資料表 (Users)\n",
        "    用戶 (User)\n",
        "        名 (First Name)\n",
        "        姓 (Last Name)\n",
        "        年齡 (Age)\n",
        "```\n",
        "\n",
        "### 我們可以用這樣的方式以 XML 格式表示\n",
        "\n",
        "```xml\n",
        "<?xml version=\"1.0\" encoding=\"UTF-8\"?>\n",
        "<users>\n",
        "    <user>\n",
        "        <first-name>Peter</first-name>\n",
        "        <last-name>Chan</last-name>\n",
        "        <age>15</age>\n",
        "    </user>\n",
        "    <user>\n",
        "        <first-name>Mary</first-name>\n",
        "        <last-name>Lui</last-name>\n",
        "        <age>20</age>\n",
        "    </user>\n",
        "</users>\n",
        "```\n",
        "\n",
        "### 可以有另一種方式表示相同的資料:\n",
        "\n",
        "```xml\n",
        "<?xml version=\"1.0\" encoding=\"UTF-8\"?>\n",
        "<users>\n",
        "    <user first-name=\"Peter\" last-name=\"Chan\" age=\"15\" />\n",
        "    <user first-name=\"Mary\" last-name=\"Lui\" age=\"20\" />\n",
        "</users>\n",
        "```\n",
        "\n",
        "💡 兩種方式沒有優劣之分，取決於提供資料的人如何規劃"
      ]
    },
    {
      "cell_type": "markdown",
      "metadata": {},
      "source": [
        "## 使用 Untangle 解析 XML 資料\n",
        "\n",
        "- 有多種方法如 Pandas 都可以解析 XML 資料\n",
        "- Untangle 相對簡單"
      ]
    },
    {
      "cell_type": "code",
      "execution_count": 45,
      "metadata": {},
      "outputs": [
        {
          "name": "stdout",
          "output_type": "stream",
          "text": [
            "Peter\n"
          ]
        }
      ],
      "source": [
        "# 範例\n",
        "\n",
        "import untangle\n",
        "\n",
        "# content 是 string, 可以使用 requests / file system 直接讀取後使用 Untangle 處理\n",
        "content = \"\"\"<?xml version=\"1.0\" encoding=\"UTF-8\"?>\n",
        "<users>\n",
        "    <user>\n",
        "        <first-name>Peter</first-name>\n",
        "        <last-name>Chan</last-name>\n",
        "        <age>15</age>\n",
        "    </user>\n",
        "    <user>\n",
        "        <first-name>Mary</first-name>\n",
        "        <last-name>Lui</last-name>\n",
        "        <age>20</age>\n",
        "    </user>\n",
        "</users>\n",
        "\"\"\"\n",
        "\n",
        "doc = untangle.parse(content)\n",
        "\n",
        "# 直接使用 doc.XXX 取得 tag\n",
        "# 使用 .cdata 直接存取 tag 內容\n",
        "print(doc.users.user[0].first_name.cdata) # should show Peter"
      ]
    },
    {
      "cell_type": "code",
      "execution_count": 46,
      "metadata": {},
      "outputs": [
        {
          "name": "stdout",
          "output_type": "stream",
          "text": [
            "Peter\n"
          ]
        }
      ],
      "source": [
        "# 範例 (讀取 Attribute)\n",
        "\n",
        "import untangle\n",
        "\n",
        "# content 是 string, 可以使用 requests / file system 直接讀取後使用 Untangle 處理\n",
        "content = \"\"\"<?xml version=\"1.0\" encoding=\"UTF-8\"?>\n",
        "<users>\n",
        "    <user first-name=\"Peter\" last-name=\"Chan\" age=\"15\" />\n",
        "    <user first-name=\"Mary\" last-name=\"Lui\" age=\"20\" />\n",
        "</users>\n",
        "\"\"\"\n",
        "\n",
        "doc = untangle.parse(content)\n",
        "\n",
        "# 直接使用 doc.XXX[attr-name] 取得 Attributes 內容\n",
        "print(doc.users.user[0]['first-name']) # should show Peter"
      ]
    },
    {
      "cell_type": "markdown",
      "metadata": {},
      "source": [
        "### 使用迴圈讀取資料"
      ]
    },
    {
      "cell_type": "code",
      "execution_count": 47,
      "metadata": {},
      "outputs": [
        {
          "name": "stdout",
          "output_type": "stream",
          "text": [
            "Hi Peter Chan, your age is 15\n",
            "Hi Mary Lui, your age is 20\n"
          ]
        }
      ],
      "source": [
        "# 範例 (讀取 Attribute)\n",
        "import untangle\n",
        "\n",
        "# content 是 string, 可以使用 requests / file system 直接讀取後使用 Untangle 處理\n",
        "content = \"\"\"<?xml version=\"1.0\" encoding=\"UTF-8\"?>\n",
        "<users>\n",
        "    <user first-name=\"Peter\" last-name=\"Chan\" age=\"15\" />\n",
        "    <user first-name=\"Mary\" last-name=\"Lui\" age=\"20\" />\n",
        "</users>\n",
        "\"\"\"\n",
        "\n",
        "doc = untangle.parse(content)\n",
        "\n",
        "for user in doc.users.user:\n",
        "    print(f\"Hi {user['first-name']} {user['last-name']}, your age is {user['age']}\")"
      ]
    },
    {
      "cell_type": "markdown",
      "metadata": {},
      "source": [
        "## JSON 格式\n",
        "\n",
        "- JSON 發展比 XML 發展較後\n",
        "- JSON 是一種基於文字 (Text-based) 的格式\n",
        "- JSON 格式基於 JavaScript 的 Object 表示方式 (故此叫 JavaScript Object Notation)\n",
        "- 產生 JSON 和讀取都比較簡單，對於一些低效能設備會很適合 (IoT)\n",
        "- JSON <-> 程式原生 Object 互相轉換 (在這裏是 Python)"
      ]
    },
    {
      "cell_type": "markdown",
      "metadata": {},
      "source": [
        "### 範例\n",
        "\n",
        "```json\n",
        "{\n",
        "  \"users\": [\n",
        "    {\n",
        "      \"first_name\": \"Peter\",\n",
        "      \"last_name\": \"Chan\",\n",
        "      \"age\": 15\n",
        "    },\n",
        "    {\n",
        "      \"first_name\": \"Mary\",\n",
        "      \"last_name\": \"Lui\",\n",
        "      \"age\": 20\n",
        "    }\n",
        "  ]\n",
        "}\n",
        "```"
      ]
    },
    {
      "cell_type": "markdown",
      "metadata": {},
      "source": [
        "### 讀取 JSON\n",
        "\n",
        "![Deserializing JSON](./images/deserializing_json.png)\n",
        "\n",
        "[Deserializing JSON](https://realpython.com/python-json/#deserializing-json)"
      ]
    },
    {
      "cell_type": "code",
      "execution_count": 57,
      "metadata": {},
      "outputs": [
        {
          "name": "stdout",
          "output_type": "stream",
          "text": [
            "<class 'dict'>\n",
            "Peter\n"
          ]
        }
      ],
      "source": [
        "# 範例 (讀取 JSON)\n",
        "\n",
        "import json\n",
        "\n",
        "json_doc = \"\"\"{\n",
        "  \"users\": [\n",
        "    {\n",
        "      \"first_name\": \"Peter\",\n",
        "      \"last_name\": \"Chan\",\n",
        "      \"age\": 15\n",
        "    },\n",
        "    {\n",
        "      \"first_name\": \"Mary\",\n",
        "      \"last_name\": \"Lui\",\n",
        "      \"age\": 20\n",
        "    }\n",
        "  ]\n",
        "}\"\"\"\n",
        "\n",
        "# print(json_doc)\n",
        "\n",
        "# print(json_doc)\n",
        "users_doc = json.loads(json_doc)\n",
        "\n",
        "print(type(users_doc))\n",
        "print(users_doc['users'][0]['first_name']) # 直接存取 dict"
      ]
    },
    {
      "cell_type": "markdown",
      "metadata": {},
      "source": [
        "## 總結\n",
        "\n",
        "上述直接讀取的方式較適合做小型的資料處理，遇上較大量的資料處理和分析，我們會使用 Pandas 等工具幫助。"
      ]
    }
  ],
  "metadata": {
    "interpreter": {
      "hash": "aee8b7b246df8f9039afb4144a1f6fd8d2ca17a180786b69acc140d282b71a49"
    },
    "kernelspec": {
      "display_name": "Python 3.9.7 64-bit",
      "language": "python",
      "name": "python3"
    },
    "language_info": {
      "codemirror_mode": {
        "name": "ipython",
        "version": 3
      },
      "file_extension": ".py",
      "mimetype": "text/x-python",
      "name": "python",
      "nbconvert_exporter": "python",
      "pygments_lexer": "ipython3",
      "version": "3.9.7"
    },
    "orig_nbformat": 4
  },
  "nbformat": 4,
  "nbformat_minor": 2
}
