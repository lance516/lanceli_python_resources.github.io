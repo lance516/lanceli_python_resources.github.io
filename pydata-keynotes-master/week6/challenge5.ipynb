{
 "cells": [
  {
   "cell_type": "markdown",
   "metadata": {},
   "source": [
    "# Challenge 5\n",
    "\n",
    "目標：讀取 `challenge/holidays.docx` (該檔案記錄了 2022 年的假期)，並找出以下答案：\n",
    "1. 2022年補假有多少天? 補假的定義：當假期在週六或週日，接著的工作日就是補假。\n",
    "2. 2022年12月有哪幾天假期，請以 yyyy-mm-dd,yyyy-mm-dd,... 的格式列出。\n",
    "3. 找出還有多少天到下一個假期?\n",
    "\n",
    "步驟：\n",
    "\n",
    "1. 讀取 docx 格式可以參考 Week 5\n",
    "2. 使用 re.search 解讀出N月N日，並轉換為 datetime。如果使用 datetime.strptime 可能會有錯誤。\n",
    "3. 可以使用 filter 篩選 list 的內容"
   ]
  },
  {
   "cell_type": "markdown",
   "metadata": {},
   "source": [
    "## 如何使用 filter，使用的方法與 map 類似\n",
    "\n",
    "以下範例篩選出 `numbers` 中大於 3 的數字"
   ]
  },
  {
   "cell_type": "code",
   "execution_count": 63,
   "metadata": {},
   "outputs": [
    {
     "name": "stdout",
     "output_type": "stream",
     "text": [
      "[4, 5]\n"
     ]
    }
   ],
   "source": [
    "numbers = [1, 2, 3, 4, 5]\n",
    "print(list(filter(lambda n: n > 3, numbers)))"
   ]
  },
  {
   "cell_type": "markdown",
   "metadata": {},
   "source": [
    "## 如何建立一個 datetime 物件，並將 datetime 物件格式化為字串"
   ]
  },
  {
   "cell_type": "code",
   "execution_count": 64,
   "metadata": {},
   "outputs": [
    {
     "name": "stdout",
     "output_type": "stream",
     "text": [
      "1879-03-14 00:00:00\n",
      "1879-03-14\n"
     ]
    }
   ],
   "source": [
    "from datetime import datetime\n",
    "einstein_birthday = datetime(1879, 3, 14)\n",
    "\n",
    "print(einstein_birthday)\n",
    "\n",
    "print(einstein_birthday.strftime(\"%Y-%m-%d\"))"
   ]
  },
  {
   "cell_type": "markdown",
   "metadata": {},
   "source": [
    "## 找出兩個 datetime 物件的相差值"
   ]
  },
  {
   "cell_type": "code",
   "execution_count": 65,
   "metadata": {},
   "outputs": [
    {
     "name": "stdout",
     "output_type": "stream",
     "text": [
      "現今距離愛因斯坦生日已有143年\n"
     ]
    }
   ],
   "source": [
    "einstein_delta = datetime.now()-einstein_birthday\n",
    "print(f\"現今距離愛因斯坦生日已有{einstein_delta.days // 365}年\")"
   ]
  },
  {
   "cell_type": "markdown",
   "metadata": {},
   "source": [
    "## 答案"
   ]
  },
  {
   "cell_type": "code",
   "execution_count": 68,
   "metadata": {},
   "outputs": [],
   "source": [
    "from docx import Document\n",
    "from datetime import datetime\n",
    "import re\n",
    "\n",
    "# Your answers here"
   ]
  }
 ],
 "metadata": {
  "interpreter": {
   "hash": "e837382d9680ec3edeac8ec1dd298aeb20e9b8789c6a2d2e17e8bc68b3d34c24"
  },
  "kernelspec": {
   "display_name": "Python 3.9.9 64-bit ('3.9.9': pyenv)",
   "language": "python",
   "name": "python3"
  },
  "language_info": {
   "codemirror_mode": {
    "name": "ipython",
    "version": 3
   },
   "file_extension": ".py",
   "mimetype": "text/x-python",
   "name": "python",
   "nbconvert_exporter": "python",
   "pygments_lexer": "ipython3",
   "version": "3.9.9"
  },
  "orig_nbformat": 4
 },
 "nbformat": 4,
 "nbformat_minor": 2
}
