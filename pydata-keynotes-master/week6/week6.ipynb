{
 "cells": [
  {
   "cell_type": "markdown",
   "metadata": {},
   "source": [
    "# Python & Data - Week 6\n",
    "\n",
    "問題：Parse & Transform\n",
    "\n",
    "## 本週內容\n",
    "\n",
    "1. [Weekly Challenge](challenge5.html) | [ipynb 檔案](challenge5.ipynb) \n",
    "\n",
    "[打包下載](../week6.zip)"
   ]
  },
  {
   "cell_type": "markdown",
   "metadata": {},
   "source": [
    "## Parse (解析／拆解)\n",
    "\n",
    "1. 由原始格式 (CSV, XLS, JSON) 轉化成 Python 能操作的格式\n",
    "2. 由一般文字轉換為數字或日期等格式，令 Python 可以作進一步處理\n",
    "\n",
    "### 如何做?\n",
    "\n",
    "1. 原始格式有專門的 Library 做處理(如 openpyxl、Pandas等)，往後會介紹，無需自行編寫。\n",
    "2. 由文字轉換為數字、由文字轉換為日期，接著介紹："
   ]
  },
  {
   "cell_type": "markdown",
   "metadata": {},
   "source": [
    "\n",
    "#### 由文字轉換為數字"
   ]
  },
  {
   "cell_type": "code",
   "execution_count": 104,
   "metadata": {},
   "outputs": [
    {
     "data": {
      "text/plain": [
       "[15, 20, 21, 21, 21, 10]"
      ]
     },
     "execution_count": 104,
     "metadata": {},
     "output_type": "execute_result"
    }
   ],
   "source": [
    "ages = [\n",
    "    \"15\",\n",
    "    \"20\",\n",
    "    \"21\",\n",
    "    \"21\",\n",
    "    \"21\",\n",
    "    \"10\",\n",
    "]\n",
    "\n",
    "list(map(lambda age: int(age), ages)) # 使用 int 轉換類型"
   ]
  },
  {
   "cell_type": "code",
   "execution_count": 105,
   "metadata": {},
   "outputs": [
    {
     "ename": "TypeError",
     "evalue": "can't multiply sequence by non-int of type 'float'",
     "output_type": "error",
     "traceback": [
      "\u001b[0;31m---------------------------------------------------------------------------\u001b[0m",
      "\u001b[0;31mTypeError\u001b[0m                                 Traceback (most recent call last)",
      "\u001b[0;32m/var/folders/fh/1sj51m1n2td8rbfkpr6rphr40000gn/T/ipykernel_20354/3345904342.py\u001b[0m in \u001b[0;36m<module>\u001b[0;34m\u001b[0m\n\u001b[1;32m     14\u001b[0m     \u001b[0;32mreturn\u001b[0m \u001b[0;34m(\u001b[0m\u001b[0mweight_in_lb\u001b[0m \u001b[0;34m/\u001b[0m \u001b[0;34m(\u001b[0m\u001b[0mheight_in_inches\u001b[0m \u001b[0;34m*\u001b[0m \u001b[0mheight_in_inches\u001b[0m\u001b[0;34m)\u001b[0m\u001b[0;34m)\u001b[0m \u001b[0;34m*\u001b[0m \u001b[0;36m703\u001b[0m\u001b[0;34m\u001b[0m\u001b[0;34m\u001b[0m\u001b[0m\n\u001b[1;32m     15\u001b[0m \u001b[0;34m\u001b[0m\u001b[0m\n\u001b[0;32m---> 16\u001b[0;31m \u001b[0mlist\u001b[0m\u001b[0;34m(\u001b[0m\u001b[0mmap\u001b[0m\u001b[0;34m(\u001b[0m\u001b[0mcalc_bmi\u001b[0m\u001b[0;34m,\u001b[0m \u001b[0mpersonal_info\u001b[0m\u001b[0;34m)\u001b[0m\u001b[0;34m)\u001b[0m\u001b[0;34m\u001b[0m\u001b[0;34m\u001b[0m\u001b[0m\n\u001b[0m",
      "\u001b[0;32m/var/folders/fh/1sj51m1n2td8rbfkpr6rphr40000gn/T/ipykernel_20354/3345904342.py\u001b[0m in \u001b[0;36mcalc_bmi\u001b[0;34m(info)\u001b[0m\n\u001b[1;32m      9\u001b[0m \u001b[0;34m\u001b[0m\u001b[0m\n\u001b[1;32m     10\u001b[0m \u001b[0;32mdef\u001b[0m \u001b[0mcalc_bmi\u001b[0m\u001b[0;34m(\u001b[0m\u001b[0minfo\u001b[0m\u001b[0;34m)\u001b[0m\u001b[0;34m:\u001b[0m\u001b[0;34m\u001b[0m\u001b[0;34m\u001b[0m\u001b[0m\n\u001b[0;32m---> 11\u001b[0;31m     \u001b[0mheight_in_inches\u001b[0m \u001b[0;34m=\u001b[0m \u001b[0minfo\u001b[0m\u001b[0;34m[\u001b[0m\u001b[0;36m1\u001b[0m\u001b[0;34m]\u001b[0m \u001b[0;34m*\u001b[0m \u001b[0;36m0.39370078740157\u001b[0m \u001b[0;31m# convert cm to inches\u001b[0m\u001b[0;34m\u001b[0m\u001b[0;34m\u001b[0m\u001b[0m\n\u001b[0m\u001b[1;32m     12\u001b[0m     \u001b[0mweight_in_lb\u001b[0m \u001b[0;34m=\u001b[0m \u001b[0minfo\u001b[0m\u001b[0;34m[\u001b[0m\u001b[0;36m2\u001b[0m\u001b[0;34m]\u001b[0m \u001b[0;34m*\u001b[0m \u001b[0;36m2.20462262185\u001b[0m \u001b[0;31m# convert kg to lb\u001b[0m\u001b[0;34m\u001b[0m\u001b[0;34m\u001b[0m\u001b[0m\n\u001b[1;32m     13\u001b[0m \u001b[0;34m\u001b[0m\u001b[0m\n",
      "\u001b[0;31mTypeError\u001b[0m: can't multiply sequence by non-int of type 'float'"
     ]
    }
   ],
   "source": [
    "personal_info = [\n",
    "    # age, height (in cm), weight (in kg)\n",
    "    (\"25\", \"175\", \"70\"),\n",
    "    (\"20\", \"170\", \"60\"),\n",
    "    (\"30\", \"180\", \"85\"),\n",
    "    (\"10\", \"144\", \"45\"),\n",
    "    (\"15\", \"156\", \"55\"),\n",
    "]\n",
    "\n",
    "def calc_bmi(info):\n",
    "    height_in_inches = info[1] * 0.39370078740157 # convert cm to inches\n",
    "    weight_in_lb = info[2] * 2.20462262185 # convert kg to lb\n",
    "\n",
    "    return (weight_in_lb / (height_in_inches * height_in_inches)) * 703\n",
    "\n",
    "list(map(calc_bmi, personal_info))"
   ]
  },
  {
   "cell_type": "markdown",
   "metadata": {},
   "source": [
    "#### 由文字抽取數字 (使用 Replace)"
   ]
  },
  {
   "cell_type": "code",
   "execution_count": null,
   "metadata": {},
   "outputs": [
    {
     "data": {
      "text/plain": [
       "[20, 15, 13, 10, 30]"
      ]
     },
     "execution_count": 15,
     "metadata": {},
     "output_type": "execute_result"
    }
   ],
   "source": [
    "ages2 = [\n",
    "    \"age:20\",\n",
    "    \"age:15\",\n",
    "    \"age:13\",\n",
    "    \"age:10\",\n",
    "    \"age:30\",\n",
    "]\n",
    "\n",
    "list(map(lambda age: int(age.replace(\"age:\", \"\")), ages2))"
   ]
  },
  {
   "cell_type": "markdown",
   "metadata": {},
   "source": [
    "#### 由文字抽取數字 (使用 Regular Expression)\n",
    "\n",
    "使用 `re.search(src_str, re_str)` 在字串中找尋指定格式的內容\n",
    "\n",
    "`src_str` 是待處理的字串  \n",
    "`re_str` 是 regular expression 字串"
   ]
  },
  {
   "cell_type": "code",
   "execution_count": null,
   "metadata": {},
   "outputs": [
    {
     "name": "stdout",
     "output_type": "stream",
     "text": [
      "2\n",
      "type of hello_age <class 'int'>\n"
     ]
    },
    {
     "data": {
      "text/plain": [
       "[20, 15, 13, 10, 30]"
      ]
     },
     "execution_count": 30,
     "metadata": {},
     "output_type": "execute_result"
    }
   ],
   "source": [
    "import re\n",
    "name_and_age = \"Hello: 2\"\n",
    "matches = re.search(\"[0-9]+\", name_and_age)\n",
    "\n",
    "if matches is not None:\n",
    "    hello_age = int(matches.group(0))\n",
    "    print(hello_age)\n",
    "    print(\"type of hello_age\", type(hello_age))\n",
    "\n",
    "name_and_ages = [\n",
    "    \"Samuel: 20\",\n",
    "    \"Mary: 15\",\n",
    "    \"John: 13\",\n",
    "    \"Peter: 10\",\n",
    "    \"Alex: 30\",\n",
    "]\n",
    "\n",
    "def search_for_age(person):\n",
    "    matches = re.search(\"[0-9]+\", person)\n",
    "    if matches is not None:\n",
    "        return int(matches.group(0))\n",
    "\n",
    "list(map(search_for_age, name_and_ages))"
   ]
  },
  {
   "cell_type": "markdown",
   "metadata": {},
   "source": [
    "❓ re.match 和 re.search 有甚麼分別?  \n",
    "💡 如果不想使用 Regex, 有沒有別的方法?"
   ]
  },
  {
   "cell_type": "markdown",
   "metadata": {},
   "source": [
    "#### 將文字轉換為日期類型\n",
    "\n",
    "使用 `datetime.strptime(src_str, format_str)` 解析日期字串\n",
    "\n",
    "`src_str` 是被處理的字串  \n",
    "`format_str` 是格式字串"
   ]
  },
  {
   "cell_type": "code",
   "execution_count": null,
   "metadata": {},
   "outputs": [
    {
     "name": "stdout",
     "output_type": "stream",
     "text": [
      "1900-02-10 00:00:00\n",
      "2022-02-10 00:00:00\n",
      "False\n",
      "True\n"
     ]
    }
   ],
   "source": [
    "from datetime import datetime\n",
    "\n",
    "date = datetime.strptime(\"2月10日\", '%m月%d日')\n",
    "\n",
    "print(date)\n",
    "\n",
    "new_date = date.replace(year = 2022) # change year from 1900 to 2022\n",
    "print(new_date)\n",
    "\n",
    "print(new_date > datetime.now()) # check if date is in the past\n",
    "print(datetime(2022, 2, 22) > datetime.now()) # as of 2022-2-15, 2022-2-22 is in the future"
   ]
  },
  {
   "cell_type": "markdown",
   "metadata": {},
   "source": [
    "💡 2022年2月15日是星期幾?  \n",
    "試試找尋 [dateime docs](https://docs.python.org/3/library/datetime.html)\n",
    "\n",
    "❗️ 注意 datetime 的時差問題，往後有時間再詳細探討。"
   ]
  },
  {
   "cell_type": "code",
   "execution_count": null,
   "metadata": {},
   "outputs": [
    {
     "name": "stdout",
     "output_type": "stream",
     "text": [
      "2022-02-15 00:00:00\n"
     ]
    }
   ],
   "source": [
    "today = datetime(2022, 2, 15)\n",
    "print(today)"
   ]
  },
  {
   "cell_type": "markdown",
   "metadata": {},
   "source": [
    "## Transform (轉化)\n",
    "\n",
    "有些時候原始資料格式不符合要求，需要進行轉換，才能作處理或輸出。\n",
    "\n",
    "### 如何做?\n",
    "\n",
    "#### 使用 Replace / Subtitute\n",
    "\n",
    "在 buggy_model_numbers 中有一些型號是 M-0002，但有一些是 M0002。如果要進一步做處理（或統計）需要先作轉換。"
   ]
  },
  {
   "cell_type": "code",
   "execution_count": null,
   "metadata": {},
   "outputs": [
    {
     "data": {
      "text/plain": [
       "['M0002', 'T0001', 'M0002', 'T0001', 'J0003']"
      ]
     },
     "execution_count": 51,
     "metadata": {},
     "output_type": "execute_result"
    }
   ],
   "source": [
    "buggy_model_numbers = [\n",
    "    \"M-0002\",\n",
    "    \"T-0001\",\n",
    "    \"M0002\",\n",
    "    \"T0001\",\n",
    "    \"J-0003\"\n",
    "]\n",
    "\n",
    "list(map(lambda model_number: model_number.replace(\"-\", \"\"), buggy_model_numbers))"
   ]
  },
  {
   "cell_type": "markdown",
   "metadata": {},
   "source": [
    "#### 使用 Regex 進行取代及重組"
   ]
  },
  {
   "cell_type": "code",
   "execution_count": 110,
   "metadata": {},
   "outputs": [
    {
     "name": "stdout",
     "output_type": "stream",
     "text": [
      "Letter part (exact 1 character)\n",
      "<re.Match object; span=(0, 1), match='M'>\n",
      "<re.Match object; span=(0, 1), match='M'>\n",
      "<re.Match object; span=(0, 1), match='M'>\n",
      "<re.Match object; span=(0, 1), match='M'>\n",
      "\n",
      "First number only\n",
      "<re.Match object; span=(2, 3), match='0'>\n",
      "\n",
      "All number part (exact 4 digits)\n",
      "None\n",
      "None\n",
      "<re.Match object; span=(0, 4), match='0002'>\n",
      "\n"
     ]
    }
   ],
   "source": [
    "# Letter part (exact 1 character)\n",
    "print(\"Letter part (exact 1 character)\")\n",
    "print(re.match(\"[A-Z]\", \"M-0002\"))\n",
    "print(re.search(\"[A-Z]\", \"M-0002\"))\n",
    "print(re.match(\"[A-Z]\", \"MM-0002\"))\n",
    "print(re.search(\"[A-Z]\", \"MM-0002\"), end=\"\\n\\n\")\n",
    "\n",
    "# First number only\n",
    "print(\"First number only\")\n",
    "print(re.search(\"[0-9]\", \"M-0002\"), end=\"\\n\\n\")\n",
    "\n",
    "# All number part (exact 4 digits)\n",
    "print(\"All number part (exact 4 digits)\")\n",
    "print(re.match(\"[0-9]{4}\", \"02\"))\n",
    "print(re.match(\"[0-9]{4}\", \"002\"))\n",
    "print(re.match(\"[0-9]{4}\", \"0002\"), end=\"\\n\\n\")"
   ]
  },
  {
   "cell_type": "code",
   "execution_count": 116,
   "metadata": {},
   "outputs": [
    {
     "data": {
      "text/plain": [
       "['M-0002', 'T-0001', 'J-0003']"
      ]
     },
     "execution_count": 116,
     "metadata": {},
     "output_type": "execute_result"
    }
   ],
   "source": [
    "import re\n",
    "\n",
    "buggy_model_numbers2 = [\n",
    "    \"M-0002\",\n",
    "    \"t-0001\",\n",
    "    \"J-0003\",\n",
    "]\n",
    "\n",
    "def process_model_number(model_number):\n",
    "    matches = re.match(\"([a-zA-Z])-([0-9]{4})\", model_number)\n",
    "    # (M)-(0002)\n",
    "    prefix = matches.group(1) # first match group\n",
    "    numbers = matches.group(2) # second match group\n",
    "    return f'{prefix.upper()}-{numbers}'\n",
    "\n",
    "# Transform to X-#### format\n",
    "list(map(process_model_number, buggy_model_numbers2))"
   ]
  },
  {
   "cell_type": "markdown",
   "metadata": {},
   "source": [
    "[Regex Cheatsheet](https://www.keycdn.com/support/regex-cheatsheet)"
   ]
  }
 ],
 "metadata": {
  "interpreter": {
   "hash": "aee8b7b246df8f9039afb4144a1f6fd8d2ca17a180786b69acc140d282b71a49"
  },
  "kernelspec": {
   "display_name": "Python 3.9.7 64-bit",
   "language": "python",
   "name": "python3"
  },
  "language_info": {
   "codemirror_mode": {
    "name": "ipython",
    "version": 3
   },
   "file_extension": ".py",
   "mimetype": "text/x-python",
   "name": "python",
   "nbconvert_exporter": "python",
   "pygments_lexer": "ipython3",
   "version": "3.9.7"
  },
  "orig_nbformat": 4
 },
 "nbformat": 4,
 "nbformat_minor": 2
}
