{
 "cells": [
  {
   "cell_type": "markdown",
   "metadata": {},
   "source": [
    "# Challenge 4\n",
    "\n",
    "`challenge` 資料夾中有 124 個檔案，每個檔案當中有一個數字，你能讀取所有檔案並將所有數字加起來，得出答案嗎?\n",
    "\n",
    "💡 讀取的內容是文字類型 (str)，需要使用 `int(str_val)` 轉換為數值。"
   ]
  },
  {
   "cell_type": "code",
   "execution_count": 28,
   "metadata": {},
   "outputs": [
    {
     "name": "stdout",
     "output_type": "stream",
     "text": [
      "Total is 11587\n"
     ]
    }
   ],
   "source": [
    "# Your code here\n",
    "\n",
    "from docx import Document\n",
    "\n",
    "total = 0\n",
    "# Read all the documents in challenge folder\n",
    "for i in range(1, 125):\n",
    "    doc = Document('challenge/{}.docx'.format(i))\n",
    "    str = doc.paragraphs[0].text\n",
    "#   Add each number to total\n",
    "    total += int(str)\n",
    "\n",
    "print('Total is {}'.format(total))"
   ]
  },
  {
   "cell_type": "markdown",
   "metadata": {},
   "source": [
    "## Bonus: 檔案內有隱藏信息，你能解出來嗎？\n",
    "\n",
    "💡 每一個檔案內其實是一個 ASCII 編碼的數值，你可以使用 `chr(int_val)` 將數值轉換為所代表的文字\n",
    "\n",
    "試試按順序讀取 `challenge` 資料夾內每個檔案，再使用 `chr()` 組合成隱藏信息。"
   ]
  },
  {
   "cell_type": "code",
   "execution_count": 30,
   "metadata": {},
   "outputs": [
    {
     "name": "stdout",
     "output_type": "stream",
     "text": [
      "A\n",
      "B\n"
     ]
    }
   ],
   "source": [
    "print(chr(65)) # returns \"A\"\n",
    "print(chr(66)) # returns \"B\""
   ]
  },
  {
   "cell_type": "code",
   "execution_count": 31,
   "metadata": {},
   "outputs": [
    {
     "name": "stdout",
     "output_type": "stream",
     "text": [
      "Hidden message is: \"Everyone wants to live on top of the mountain, but all the happiness and growth occurs while you're climbing it. Andy Rooney\"\n"
     ]
    }
   ],
   "source": [
    "# Your code here\n",
    "from docx import Document\n",
    "\n",
    "message = ''\n",
    "total = 0\n",
    "for i in range(1, 125):\n",
    "    doc = Document('challenge/{}.docx'.format(i))\n",
    "    str = doc.paragraphs[0].text\n",
    "    message += chr(int(str))\n",
    "\n",
    "print('Hidden message is: \"{}\"'.format(message))"
   ]
  },
  {
   "cell_type": "markdown",
   "metadata": {},
   "source": [
    "## 如何產生出 124 個檔案？"
   ]
  },
  {
   "cell_type": "code",
   "execution_count": 27,
   "metadata": {},
   "outputs": [
    {
     "name": "stdout",
     "output_type": "stream",
     "text": [
      "Total should be 11587\n"
     ]
    }
   ],
   "source": [
    "from docx import Document\n",
    "message = \"Everyone wants to live on top of the mountain, but all the happiness and growth occurs while you're climbing it. Andy Rooney\"\n",
    "\n",
    "counter = 1\n",
    "total = 0\n",
    "for char in message:\n",
    "    code = ord(char)\n",
    "    \n",
    "    doc = Document()\n",
    "    doc.add_paragraph('{}'.format(code))\n",
    "    doc.save('challenge/{}.docx'.format(counter))\n",
    "    counter += 1\n",
    "\n",
    "    total += code # Verify total\n",
    "\n",
    "print('Total should be {}'.format(total))"
   ]
  }
 ],
 "metadata": {
  "interpreter": {
   "hash": "aee8b7b246df8f9039afb4144a1f6fd8d2ca17a180786b69acc140d282b71a49"
  },
  "kernelspec": {
   "display_name": "Python 3.9.7 64-bit",
   "language": "python",
   "name": "python3"
  },
  "language_info": {
   "codemirror_mode": {
    "name": "ipython",
    "version": 3
   },
   "file_extension": ".py",
   "mimetype": "text/x-python",
   "name": "python",
   "nbconvert_exporter": "python",
   "pygments_lexer": "ipython3",
   "version": "3.9.7"
  },
  "orig_nbformat": 4
 },
 "nbformat": 4,
 "nbformat_minor": 2
}
