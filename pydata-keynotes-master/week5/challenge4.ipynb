{
 "cells": [
  {
   "cell_type": "markdown",
   "metadata": {},
   "source": [
    "# Challenge 4\n",
    "\n",
    "`challenge` 資料夾中有 124 個檔案，每個檔案當中有一個數字，你能讀取所有檔案並將所有數字加起來，得出答案嗎?\n",
    "\n",
    "💡 讀取的內容是文字類型 (str)，需要使用 `int(str_val)` 轉換為數值。"
   ]
  },
  {
   "cell_type": "code",
   "execution_count": null,
   "metadata": {},
   "outputs": [],
   "source": [
    "total = 0\n",
    "\n",
    "# Your code here\n",
    "# Read all the documents in challenge folder\n",
    "#   Add each number to total\n",
    "\n",
    "print(total)"
   ]
  },
  {
   "cell_type": "markdown",
   "metadata": {},
   "source": [
    "## Bonus: 檔案內的隱藏信息，你能解讀出來嗎？\n",
    "\n",
    "💡 每一個檔案內其實是一個 ASCII 編碼的數值，你可以使用 `chr(int_val)` 將數值轉換為所代表的文字\n",
    "\n",
    "試試按**順序**讀取 `challenge` 資料夾內每個檔案，再使用 `chr()` 組合成隱藏信息。"
   ]
  },
  {
   "cell_type": "code",
   "execution_count": null,
   "metadata": {},
   "outputs": [],
   "source": [
    "print(chr(65)) # returns \"A\"\n",
    "print(chr(66)) # returns \"B\""
   ]
  },
  {
   "cell_type": "code",
   "execution_count": null,
   "metadata": {},
   "outputs": [],
   "source": [
    "# Your code here"
   ]
  },
  {
   "cell_type": "markdown",
   "metadata": {},
   "source": [
    "[檢查答案](challenge4_finished.html) | [ipynb](challenge4_finished.ipynb)"
   ]
  }
 ],
 "metadata": {
  "interpreter": {
   "hash": "aee8b7b246df8f9039afb4144a1f6fd8d2ca17a180786b69acc140d282b71a49"
  },
  "kernelspec": {
   "display_name": "Python 3.9.7 64-bit",
   "language": "python",
   "name": "python3"
  },
  "language_info": {
   "codemirror_mode": {
    "name": "ipython",
    "version": 3
   },
   "file_extension": ".py",
   "mimetype": "text/x-python",
   "name": "python",
   "nbconvert_exporter": "python",
   "pygments_lexer": "ipython3",
   "version": "3.9.7"
  },
  "orig_nbformat": 4
 },
 "nbformat": 4,
 "nbformat_minor": 2
}
