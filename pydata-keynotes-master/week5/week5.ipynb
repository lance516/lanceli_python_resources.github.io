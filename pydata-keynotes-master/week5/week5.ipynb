{
 "cells": [
  {
   "cell_type": "markdown",
   "metadata": {},
   "source": [
    "# Python & Data - Week 5\n",
    "\n",
    "問題：進一步處理 Word / Excel 檔案\n",
    "\n",
    "## 本週內容\n",
    "\n",
    "1. [Weekly Challenge](challenge4.html) | [ipynb 檔案](challenge4.ipynb) \n",
    "\n",
    "[打包下載](../week5.zip)"
   ]
  },
  {
   "cell_type": "markdown",
   "metadata": {},
   "source": [
    "## Python 中如何安裝 Library\n",
    "\n",
    "讀取/寫入 Word / Excel 檔案等功能，需要借助額外的 Library 完成：\n",
    "\n",
    "讀取及寫入 Word 檔 (.docx) (新版 Word)\n",
    "\n",
    "```\n",
    "pip install python-docx\n",
    "```\n",
    "\n",
    "讀取 Excel 檔 (.xls) (舊版 Excel)\n",
    "\n",
    "```\n",
    "pip install xlrd\n",
    "```\n",
    "\n",
    "寫入 Excel 檔 (.xls) (舊版 Excel)\n",
    "\n",
    "```\n",
    "pip install xlwt\n",
    "```\n",
    "\n",
    "讀取及寫入 Excel 檔 (.xlsx) (新版 Excel)\n",
    "\n",
    "```\n",
    "pip install openpyxl\n",
    "```\n",
    "\n",
    "💡 pip 是 Python 的 Package Manager，需要在 Command Prompt (命令行) 執行。亦可以在 VS Code 的 Terminal (終端機) Tab 執行。\n",
    "\n",
    "![Terminal](images/terminal.png)\n",
    "\n",
    "可以使用 `Ctrl + J` (Windows) / `CMD + J` (Mac) 快捷鍵打開。"
   ]
  },
  {
   "cell_type": "markdown",
   "metadata": {},
   "source": [
    "### 試試在 Notebook Cell 直接執行 pip (只能逐個執行)\n",
    "\n",
    "註：執行完畢**可能**需要 Restart Kernel\n",
    "\n",
    "![Jupyter PIP](images/jupyter_pip.png)"
   ]
  },
  {
   "cell_type": "code",
   "execution_count": 10,
   "metadata": {},
   "outputs": [
    {
     "name": "stdout",
     "output_type": "stream",
     "text": [
      "\u001b[33mDEPRECATION: Configuring installation scheme with distutils config files is deprecated and will no longer work in the near future. If you are using a Homebrew or Linuxbrew Python, please see discussion at https://github.com/Homebrew/homebrew-core/issues/76621\u001b[0m\n",
      "Requirement already satisfied: python-docx in /usr/local/lib/python3.9/site-packages (0.8.11)\n",
      "Requirement already satisfied: lxml>=2.3.2 in /usr/local/lib/python3.9/site-packages (from python-docx) (4.7.1)\n",
      "\u001b[33mWARNING: You are using pip version 21.2.4; however, version 21.3.1 is available.\n",
      "You should consider upgrading via the '/usr/local/opt/python@3.9/bin/python3.9 -m pip install --upgrade pip' command.\u001b[0m\n",
      "Note: you may need to restart the kernel to use updated packages.\n"
     ]
    }
   ],
   "source": [
    "pip install python-docx # 讀寫 docx"
   ]
  },
  {
   "cell_type": "code",
   "execution_count": 11,
   "metadata": {},
   "outputs": [
    {
     "name": "stdout",
     "output_type": "stream",
     "text": [
      "\u001b[33mDEPRECATION: Configuring installation scheme with distutils config files is deprecated and will no longer work in the near future. If you are using a Homebrew or Linuxbrew Python, please see discussion at https://github.com/Homebrew/homebrew-core/issues/76621\u001b[0m\n",
      "Requirement already satisfied: xlrd in /usr/local/lib/python3.9/site-packages (2.0.1)\n",
      "\u001b[33mWARNING: You are using pip version 21.2.4; however, version 21.3.1 is available.\n",
      "You should consider upgrading via the '/usr/local/opt/python@3.9/bin/python3.9 -m pip install --upgrade pip' command.\u001b[0m\n",
      "Note: you may need to restart the kernel to use updated packages.\n"
     ]
    }
   ],
   "source": [
    "pip install xlrd # 讀取 xls"
   ]
  },
  {
   "cell_type": "code",
   "execution_count": 12,
   "metadata": {},
   "outputs": [
    {
     "name": "stdout",
     "output_type": "stream",
     "text": [
      "\u001b[33mDEPRECATION: Configuring installation scheme with distutils config files is deprecated and will no longer work in the near future. If you are using a Homebrew or Linuxbrew Python, please see discussion at https://github.com/Homebrew/homebrew-core/issues/76621\u001b[0m\n",
      "Requirement already satisfied: xlwt in /usr/local/lib/python3.9/site-packages (1.3.0)\n",
      "\u001b[33mWARNING: You are using pip version 21.2.4; however, version 21.3.1 is available.\n",
      "You should consider upgrading via the '/usr/local/opt/python@3.9/bin/python3.9 -m pip install --upgrade pip' command.\u001b[0m\n",
      "Note: you may need to restart the kernel to use updated packages.\n"
     ]
    }
   ],
   "source": [
    "pip install xlwt  # 寫入 xls"
   ]
  },
  {
   "cell_type": "code",
   "execution_count": 4,
   "metadata": {},
   "outputs": [
    {
     "name": "stdout",
     "output_type": "stream",
     "text": [
      "\u001b[33mDEPRECATION: Configuring installation scheme with distutils config files is deprecated and will no longer work in the near future. If you are using a Homebrew or Linuxbrew Python, please see discussion at https://github.com/Homebrew/homebrew-core/issues/76621\u001b[0m\n",
      "Requirement already satisfied: openpyxl in /usr/local/lib/python3.9/site-packages (3.0.9)\n",
      "Requirement already satisfied: et-xmlfile in /usr/local/lib/python3.9/site-packages (from openpyxl) (1.1.0)\n",
      "\u001b[33mWARNING: You are using pip version 21.2.4; however, version 21.3.1 is available.\n",
      "You should consider upgrading via the '/usr/local/opt/python@3.9/bin/python3.9 -m pip install --upgrade pip' command.\u001b[0m\n",
      "Note: you may need to restart the kernel to use updated packages.\n"
     ]
    }
   ],
   "source": [
    "pip install openpyxl # 讀寫 xlsx"
   ]
  },
  {
   "cell_type": "markdown",
   "metadata": {},
   "source": [
    "⚠️ 以上並非有效的 Python 語法，只是 Jupyter 能夠判斷這是 pip 命令，幫我們在 Terminal 自動執行。"
   ]
  },
  {
   "cell_type": "markdown",
   "metadata": {},
   "source": [
    "## 讀取 Word 檔案\n",
    "\n",
    "執行以下一段程式，輸出內容應為 \"你好世界!\""
   ]
  },
  {
   "cell_type": "code",
   "execution_count": 5,
   "metadata": {},
   "outputs": [
    {
     "name": "stdout",
     "output_type": "stream",
     "text": [
      "你好世界!\n"
     ]
    }
   ],
   "source": [
    "from docx import Document\n",
    "\n",
    "document = Document('data/simple.docx')\n",
    "for paragraph in document.paragraphs:\n",
    "    print(paragraph.text)"
   ]
  },
  {
   "cell_type": "markdown",
   "metadata": {},
   "source": [
    "## 寫入 Word 檔案\n",
    "\n",
    "執行以下一段程式，試試打開 data/output.docx，看看是否有 \"Hello World!\""
   ]
  },
  {
   "cell_type": "code",
   "execution_count": 6,
   "metadata": {},
   "outputs": [],
   "source": [
    "from docx import Document\n",
    "\n",
    "document = Document()\n",
    "document.add_paragraph('Hello World!')\n",
    "\n",
    "document.save('data/output.docx')"
   ]
  },
  {
   "cell_type": "markdown",
   "metadata": {},
   "source": [
    "## 取代 Word 檔案的內容\n",
    "\n",
    "取代前:\n",
    "\n",
    "![Before](images/word_replacement_before.png)\n",
    "\n",
    "取代後:\n",
    "\n",
    "![After](images/word_replacement_after.png)\n",
    "\n",
    "\n",
    "⚠️ 直接取代 paragraph.text 會使原有的格式消失"
   ]
  },
  {
   "cell_type": "code",
   "execution_count": 7,
   "metadata": {},
   "outputs": [],
   "source": [
    "from docx import Document\n",
    "\n",
    "document = Document('data/replacement.docx')\n",
    "for paragraph in document.paragraphs:\n",
    "    text = paragraph.text\n",
    "    text = text.replace('信', '郵件') # 使用 \"郵件\" 取代 \"信\"\n",
    "    paragraph.text = text\n",
    "\n",
    "document.save('data/replacement_output.docx')"
   ]
  },
  {
   "cell_type": "markdown",
   "metadata": {},
   "source": [
    "### 取代內容有甚麼用途?\n",
    "\n",
    "我們可以使用取代功能達到類似 Word Mail Merge 的功能 (產生個人化的 Word 文件)"
   ]
  },
  {
   "cell_type": "code",
   "execution_count": 8,
   "metadata": {},
   "outputs": [
    {
     "name": "stdout",
     "output_type": "stream",
     "text": [
      "3 documents were written.\n"
     ]
    }
   ],
   "source": [
    "from docx import Document\n",
    "\n",
    "# Replace could be read from a CSV or Excel file\n",
    "replacements = [\n",
    "    ('陳', '澳門XXX街1號地下'),\n",
    "    ('黃', '氹仔XXX街5號1樓'),\n",
    "    ('張', '路環黑沙海灘'),\n",
    "]\n",
    "\n",
    "counter = 1\n",
    "for replacement in replacements:\n",
    "    # Assign variables\n",
    "    ref_no = '{:02d}/20XX/ASDF'.format(counter)\n",
    "    name = replacement[0]\n",
    "    address = replacement[1]\n",
    "    \n",
    "    # Open document as template\n",
    "    document = Document('data/mail_merge_template.docx')\n",
    "    for paragraph in document.paragraphs:\n",
    "        # Try to replace refence no\n",
    "        paragraph.text = paragraph.text.replace('{ref_no}', ref_no)\n",
    "        # Try to replace name\n",
    "        paragraph.text = paragraph.text.replace('{name}', name)\n",
    "        # Try to replace address\n",
    "        paragraph.text = paragraph.text.replace('{address}', address)\n",
    "\n",
    "    # Save the document\n",
    "    document.save('data/mail_merge/{}-{}.docx'.format(counter, name))\n",
    "\n",
    "    # Increase counter by 1\n",
    "    counter += 1\n",
    "\n",
    "print('{} documents were written.'.format(counter - 1))"
   ]
  },
  {
   "cell_type": "markdown",
   "metadata": {},
   "source": [
    "## 讀取 Word 檔案的 Table\n",
    "\n",
    "Row - 行  \n",
    "Column - 列  \n",
    "Cell - 格\n",
    "\n",
    "![Table](images/table.png)"
   ]
  },
  {
   "cell_type": "code",
   "execution_count": 9,
   "metadata": {},
   "outputs": [
    {
     "name": "stdout",
     "output_type": "stream",
     "text": [
      "1月1日\n",
      "2月1日\n",
      "2月2日\n",
      "2月3日\n",
      "4月5日\n",
      "4月15日\n",
      "4月16日\n",
      "5月1日\n",
      "5月8日\n",
      "6月3日\n",
      "9月11日\n",
      "10月1日\n",
      "10月2日\n",
      "10月4日\n",
      "11月2日\n",
      "12月8日\n",
      "12月20日\n",
      "12月22日\n",
      "12月24日\n",
      "12月25日\n"
     ]
    }
   ],
   "source": [
    "from docx import Document\n",
    "\n",
    "document = Document('data/holidays.docx')\n",
    "\n",
    "table = document.tables[0]\n",
    "\n",
    "# Read from second row till the end\n",
    "for row in table.rows[1:]:\n",
    "    print(row.cells[1].text) # Second cell (date) of current row"
   ]
  },
  {
   "cell_type": "markdown",
   "metadata": {},
   "source": [
    "### 如何讀取全部 Table?\n",
    "\n",
    "```python\n",
    "for table in document.tables:\n",
    "    pass # read each row and cells\n",
    "```\n",
    "\n",
    "💡 試試找出今年有多少天假期，最多假期的月份又是甚麼?"
   ]
  },
  {
   "cell_type": "markdown",
   "metadata": {},
   "source": [
    "[python-docx 參考文檔](https://python-docx.readthedocs.io/en/latest/index.html)"
   ]
  }
 ],
 "metadata": {
  "interpreter": {
   "hash": "aee8b7b246df8f9039afb4144a1f6fd8d2ca17a180786b69acc140d282b71a49"
  },
  "kernelspec": {
   "display_name": "Python 3.9.7 64-bit",
   "language": "python",
   "name": "python3"
  },
  "language_info": {
   "codemirror_mode": {
    "name": "ipython",
    "version": 3
   },
   "file_extension": ".py",
   "mimetype": "text/x-python",
   "name": "python",
   "nbconvert_exporter": "python",
   "pygments_lexer": "ipython3",
   "version": "3.9.7"
  },
  "orig_nbformat": 4
 },
 "nbformat": 4,
 "nbformat_minor": 2
}
