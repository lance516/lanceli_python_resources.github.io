{
 "cells": [
  {
   "cell_type": "markdown",
   "metadata": {},
   "source": [
    "# Python & Data - Week 1\n",
    "\n",
    "## Why Python?\n",
    "\n",
    "* 易學\n",
    "* 容易找到參考資料\n",
    "* 豐富的 Library\n",
    "* 但是並非非 Python 不可 (JavaScript / Ruby)\n",
    "\n",
    "## 運行 Python 的方法\n",
    "\n",
    "* 使用 python(.exe) script.py 執行 (Windows, macOS, Linux...) - Command line script, GUI\n",
    "* 在伺服器上執行 (通常使用 Framework 如 django) - 建立網站\n",
    "* 在 iOS / iPad 上執行 (Pyto, Pythonista) - 可執行 Shortcut, Widget\n",
    "* 在 IoT 設備上執行 (使用 micropython) - 記錄感應器資料或執行動作\n",
    "* 在 SaaS 上執行 (如 repit.com) - 編寫 Bot\n",
    "* 在任何地方執行...\n",
    "\n",
    "## 課程目標\n",
    "\n",
    "* 透過使用 Python 解決生活上的問題\n",
    "* 輸入－處理－輸出 (Input-Process-Output, and repeat)\n",
    "\n",
    "* 輸入(讀取及解釋)資料\n",
    "\n",
    "    * 通過讀取格式化的資料檔案 (CSV, XML, JSON)\n",
    "    * 通過 Application Programming Interface (API) 取得資料\n",
    "    * 通過 Scraping 抓取原始資料\n",
    "    * 自動化的方法瀏覽網頁取得資料\n",
    "\n",
    "* 處理(計算及整合)資料\n",
    "\n",
    "    * 解譯原始資料 (Parsing)\n",
    "    * 組合、計算結果 (Panda, Numpy)\n",
    "    * 處理文字資料\n",
    "\n",
    "* 輸出(整理及可視化)資料\n",
    "\n",
    "    * 繪畫圖表 (Plot\n",
    "    * 將資料輸出至檔案 (TXT, DOCX, XLSX 等格式)\n",
    "\n",
    "* 自動化測試及驗證結果\n",
    "* 處理例外情況\n",
    "\n",
    "## 課堂型式\n",
    "\n",
    "* 透過範例方式講解\n",
    "* Weekly Challenge"
   ]
  },
  {
   "cell_type": "markdown",
   "metadata": {},
   "source": [
    "## Data－資料\n",
    "\n",
    "來源：\n",
    "* 人手記錄 (如：統計局、平台)\n",
    "* 自動化方式記錄（如：感應器記錄溫度、濕度等）\n",
    "* 通過抓取網上資料 (Scraping)\n",
    "* 開放 API\n",
    "\n",
    "> 注意使用授權、私隱以及道德問題，如有疑問應徵詢資料持有人的同意。\n",
    "\n",
    "## 資料的重要性\n",
    "\n",
    "* 我們可以通過資料得知一個人（或一群人）的喜好、行為甚至健康狀況\n",
    "* 各行各業都需要數據，如零售、教育、公共事業、衛生領域\n",
    "* 大數據－當數據的量足夠大，所產生的效果更加大\n",
    "\n",
    "## (不好的)例子\n",
    "\n",
    "* Google 可以通過人搜尋的關建字得知最多人搜尋的產品，它可以將資料提供給零售商，零售商可以在目標產品的搜尋結果賣廣告。\n",
    "* Facebook 的做法可以更加個人化，因為需要登入，它可以為每個人建立一個檔案，以記錄每個人的行為，分析他們的喜好。\n",
    "* 智能設備如手錶，所獲得的資料更加個人化，甚至可以獲得當事人不知道的一些資料。\n",
    "\n",
    "> 所以為何很多產品和服務都是免費，因為由你提供的數據價值遠大於他們提供的服務"
   ]
  },
  {
   "cell_type": "markdown",
   "metadata": {},
   "source": [
    "## 本週內容\n",
    "\n",
    "1. [熟悉 VSCode, Juypter Notebook](jupyter_notebook.html) | [ipynb 檔案](jupyter_notebook.ipynb)\n",
    "2. [Cheatsheet](cheatsheet1.html) | [ipynb 檔案](cheatsheet1.ipynb)\n",
    "3. [Weekly Challenge](challenge1.html) | [ipynb 檔案](challenge1.ipynb)\n",
    "4. [Examples](examples1.html) | [ipynb 檔案](examples1.ipynb)\n",
    "\n",
    "[打包下載](../week1.zip)"
   ]
  }
 ],
 "metadata": {
  "interpreter": {
   "hash": "aee8b7b246df8f9039afb4144a1f6fd8d2ca17a180786b69acc140d282b71a49"
  },
  "kernelspec": {
   "display_name": "Python 3.9.7 64-bit",
   "language": "python",
   "name": "python3"
  },
  "language_info": {
   "codemirror_mode": {
    "name": "ipython",
    "version": 3
   },
   "file_extension": ".py",
   "mimetype": "text/x-python",
   "name": "python",
   "nbconvert_exporter": "python",
   "pygments_lexer": "ipython3",
   "version": "3.9.7"
  },
  "orig_nbformat": 4
 },
 "nbformat": 4,
 "nbformat_minor": 2
}
