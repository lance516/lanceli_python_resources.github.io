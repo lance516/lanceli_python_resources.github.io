{
 "cells": [
  {
   "cell_type": "markdown",
   "metadata": {},
   "source": [
    "# Cheatsheet\n",
    "\n",
    "## 1. List\n",
    "\n",
    "[Python Data Structures](https://docs.python.org/3.9/tutorial/datastructures.html)\n",
    "\n",
    "### Basic operations"
   ]
  },
  {
   "cell_type": "code",
   "execution_count": 7,
   "metadata": {},
   "outputs": [
    {
     "data": {
      "text/plain": [
       "['Pizza']"
      ]
     },
     "execution_count": 7,
     "metadata": {},
     "output_type": "execute_result"
    }
   ],
   "source": [
    "my_list = []\n",
    "# Append item at the end\n",
    "my_list.append('Pizza')\n",
    "my_list"
   ]
  },
  {
   "cell_type": "code",
   "execution_count": 8,
   "metadata": {},
   "outputs": [
    {
     "name": "stdout",
     "output_type": "stream",
     "text": [
      "['Pizza', 'Hamburger', 'Fries', 'Steak']\n"
     ]
    }
   ],
   "source": [
    "my_list = ['Pizza']\n",
    "# Append a number of items\n",
    "my_list.extend(['Hamburger', 'Fries', 'Steak'])\n",
    "print(my_list)"
   ]
  },
  {
   "cell_type": "code",
   "execution_count": 9,
   "metadata": {},
   "outputs": [
    {
     "name": "stdout",
     "output_type": "stream",
     "text": [
      "['Pizza', 'Fries', 'Hamburger']\n"
     ]
    }
   ],
   "source": [
    "my_list = ['Pizza', 'Hamburger']\n",
    "# Append a number of items\n",
    "my_list.insert(1, 'Fries')\n",
    "print(my_list)"
   ]
  },
  {
   "cell_type": "code",
   "execution_count": 10,
   "metadata": {},
   "outputs": [
    {
     "name": "stdout",
     "output_type": "stream",
     "text": [
      "['Pizza']\n"
     ]
    }
   ],
   "source": [
    "my_list = ['Pizza', 'Steak']\n",
    "# Delete item at index\n",
    "del my_list[1]\n",
    "print(my_list)"
   ]
  },
  {
   "cell_type": "code",
   "execution_count": 11,
   "metadata": {},
   "outputs": [
    {
     "name": "stdout",
     "output_type": "stream",
     "text": [
      "before: my_list=['Pizza', 'Fries', 'Steak']\n",
      "after: my_list=['Pizza', 'Fries']\n"
     ]
    }
   ],
   "source": [
    "my_list = ['Pizza', 'Steak', 'Fries', 'Steak']\n",
    "# Delete item by content\n",
    "my_list.remove('Steak') # ⚠️ Note that only delete one occurance\n",
    "print(f'before: {my_list=}')\n",
    "my_list.remove('Steak')\n",
    "print(f'after: {my_list=}')"
   ]
  },
  {
   "cell_type": "code",
   "execution_count": 12,
   "metadata": {},
   "outputs": [
    {
     "name": "stdout",
     "output_type": "stream",
     "text": [
      "my_list=['Pizza', 'Fries']\n"
     ]
    }
   ],
   "source": [
    "my_list = ['Pizza', 'Steak']\n",
    "# Change item at index\n",
    "my_list[1] = 'Fries' # Steak -> Fries\n",
    "print(f'{my_list=}')"
   ]
  },
  {
   "cell_type": "markdown",
   "metadata": {},
   "source": [
    "### List Slicing\n",
    "\n",
    "`my_list[start:end:step]`\n",
    "\n",
    "start - Start index (start from 0)  \n",
    "end   - End index (exclusive)  \n",
    "step  -   "
   ]
  },
  {
   "cell_type": "code",
   "execution_count": 13,
   "metadata": {},
   "outputs": [
    {
     "data": {
      "text/plain": [
       "['Pizza', 'Hamburger']"
      ]
     },
     "execution_count": 13,
     "metadata": {},
     "output_type": "execute_result"
    }
   ],
   "source": [
    "my_list = ['Pizza', 'Hamburger', 'Fries', 'Steak']\n",
    "my_list[:2] # -> 0, 1"
   ]
  },
  {
   "cell_type": "code",
   "execution_count": 14,
   "metadata": {},
   "outputs": [
    {
     "data": {
      "text/plain": [
       "['Pizza', 'Hamburger', 'Fries']"
      ]
     },
     "execution_count": 14,
     "metadata": {},
     "output_type": "execute_result"
    }
   ],
   "source": [
    "my_list = ['Pizza', 'Hamburger', 'Fries', 'Steak']\n",
    "my_list[:-1] # -> 0, 1, 2"
   ]
  },
  {
   "cell_type": "code",
   "execution_count": 15,
   "metadata": {},
   "outputs": [
    {
     "data": {
      "text/plain": [
       "['Steak']"
      ]
     },
     "execution_count": 15,
     "metadata": {},
     "output_type": "execute_result"
    }
   ],
   "source": [
    "my_list = ['Pizza', 'Hamburger', 'Fries', 'Steak']\n",
    "my_list[-1:] # -> 3"
   ]
  },
  {
   "cell_type": "code",
   "execution_count": 16,
   "metadata": {},
   "outputs": [
    {
     "data": {
      "text/plain": [
       "['Pizza', 'Fries']"
      ]
     },
     "execution_count": 16,
     "metadata": {},
     "output_type": "execute_result"
    }
   ],
   "source": [
    "my_list = ['Pizza', 'Hamburger', 'Fries', 'Steak']\n",
    "my_list[::2] # -> 0, 1"
   ]
  },
  {
   "cell_type": "markdown",
   "metadata": {},
   "source": [
    "### List Comprehensions\n",
    "\n",
    "Create a new list based on some critria from old list.\n",
    "💡 New list will be created"
   ]
  },
  {
   "cell_type": "code",
   "execution_count": 17,
   "metadata": {},
   "outputs": [
    {
     "name": "stdout",
     "output_type": "stream",
     "text": [
      "new_list=['Steak', 'Spaghetti']\n"
     ]
    }
   ],
   "source": [
    "# Using for\n",
    "my_list = ['Pizza', 'Hamburger', 'Fries', 'Steak', 'Spaghetti']\n",
    "new_list = []\n",
    "# Create a list of food starting with \"s\"\n",
    "for x in my_list:\n",
    "    if x[0].lower() == 's':\n",
    "        new_list.append(x)\n",
    "print(f'{new_list=}')"
   ]
  },
  {
   "cell_type": "code",
   "execution_count": 18,
   "metadata": {},
   "outputs": [
    {
     "name": "stdout",
     "output_type": "stream",
     "text": [
      "new_list=['Steak', 'Spaghetti']\n"
     ]
    }
   ],
   "source": [
    "# Using list comprehension\n",
    "my_list = ['Pizza', 'Hamburger', 'Fries', 'Steak', 'Spaghetti']\n",
    "# Create a list of food starting with \"s\"\n",
    "new_list = [x for x in my_list if x[0].lower() == 's']\n",
    "print(f'{new_list=}')"
   ]
  },
  {
   "cell_type": "code",
   "execution_count": 19,
   "metadata": {},
   "outputs": [
    {
     "name": "stdout",
     "output_type": "stream",
     "text": [
      "new_list=['Pizza', 'Hamburger', 'Fries', 'St eak', 'Spaghetti']\n"
     ]
    }
   ],
   "source": [
    "my_list = [' Pizza', 'Hamburger ', ' Fries ', 'St eak', 'Spaghetti']\n",
    "# Using for\n",
    "new_list = []\n",
    "# Create a list of food starting with \"s\"\n",
    "for x in my_list:\n",
    "    new_list.append(x.strip())\n",
    "print(f'{new_list=}')"
   ]
  },
  {
   "cell_type": "code",
   "execution_count": 20,
   "metadata": {},
   "outputs": [
    {
     "name": "stdout",
     "output_type": "stream",
     "text": [
      "new_list=['Pizza', 'Hamburger', 'Fries', 'St eak', 'Spaghetti']\n"
     ]
    }
   ],
   "source": [
    "# Using list comprehension\n",
    "my_list = [' Pizza', 'Hamburger ', ' Fries ', 'St eak', 'Spaghetti']\n",
    "# Strip spaces from items, ⚠️ space inside the word was not stripped\n",
    "new_list = [x.strip() for x in my_list] \n",
    "print(f'{new_list=}')"
   ]
  },
  {
   "cell_type": "markdown",
   "metadata": {},
   "source": [
    "## 2. Dictionaries\n",
    "\n",
    "Key-Value pair data structure"
   ]
  },
  {
   "cell_type": "code",
   "execution_count": 21,
   "metadata": {},
   "outputs": [
    {
     "name": "stdout",
     "output_type": "stream",
     "text": [
      "marking={'name': 'Samuel', 'mark': 10, 'comment': 'Work harder!'}\n"
     ]
    }
   ],
   "source": [
    "marking = {'name': 'Samuel', 'mark': 10}\n",
    "# Add new item\n",
    "marking['comment'] = 'Work harder!'\n",
    "print(f'{marking=}')"
   ]
  },
  {
   "cell_type": "code",
   "execution_count": 22,
   "metadata": {},
   "outputs": [
    {
     "name": "stdout",
     "output_type": "stream",
     "text": [
      "marking={'name': 'Samuel', 'mark': 10}\n"
     ]
    }
   ],
   "source": [
    "marking = {'name': 'Samuel', 'mark': 10, 'comment': 'Work harder!'}\n",
    "# Delete item\n",
    "del marking['comment']\n",
    "print(f'{marking=}')"
   ]
  },
  {
   "cell_type": "code",
   "execution_count": 23,
   "metadata": {},
   "outputs": [
    {
     "name": "stdout",
     "output_type": "stream",
     "text": [
      "key='name', value='Samuel'\n",
      "key='mark', value=10\n",
      "key='comment', value='Work harder!'\n"
     ]
    }
   ],
   "source": [
    "marking = {'name': 'Samuel', 'mark': 10, 'comment': 'Work harder!'}\n",
    "# Iterate through key and value\n",
    "for key, value in marking.items():\n",
    "    print(f'{key=}, {value=}')"
   ]
  },
  {
   "cell_type": "markdown",
   "metadata": {},
   "source": [
    "## 3. Tuples"
   ]
  },
  {
   "cell_type": "code",
   "execution_count": 24,
   "metadata": {},
   "outputs": [
    {
     "name": "stdout",
     "output_type": "stream",
     "text": [
      "Samuel's mark is 10, 50%\n",
      "Alex's mark is 20, 100%\n",
      "Billy's mark is 17, 85%\n"
     ]
    }
   ],
   "source": [
    "marks = [('Samuel', 10), ('Alex', 20), ('Billy', 17)]\n",
    "\n",
    "for marking in marks:\n",
    "    percentage = marking[1] / 20\n",
    "    print(f'{marking[0]}\\'s mark is {marking[1]}, {percentage:.0%}')"
   ]
  },
  {
   "cell_type": "markdown",
   "metadata": {},
   "source": [
    "## 4. String"
   ]
  },
  {
   "cell_type": "markdown",
   "metadata": {},
   "source": [
    "### Character Slicing (same as List Slices)"
   ]
  },
  {
   "cell_type": "code",
   "execution_count": 25,
   "metadata": {},
   "outputs": [
    {
     "data": {
      "text/plain": [
       "'S'"
      ]
     },
     "execution_count": 25,
     "metadata": {},
     "output_type": "execute_result"
    }
   ],
   "source": [
    "my_name = 'Samuel'\n",
    "my_name[0] # first character"
   ]
  },
  {
   "cell_type": "code",
   "execution_count": 26,
   "metadata": {},
   "outputs": [
    {
     "data": {
      "text/plain": [
       "'l'"
      ]
     },
     "execution_count": 26,
     "metadata": {},
     "output_type": "execute_result"
    }
   ],
   "source": [
    "my_name = 'Samuel'\n",
    "my_name[-1] # last character"
   ]
  },
  {
   "cell_type": "code",
   "execution_count": 27,
   "metadata": {},
   "outputs": [
    {
     "data": {
      "text/plain": [
       "'muel'"
      ]
     },
     "execution_count": 27,
     "metadata": {},
     "output_type": "execute_result"
    }
   ],
   "source": [
    "my_name = 'Samuel'\n",
    "my_name[2:] # 3rd character to end"
   ]
  },
  {
   "cell_type": "code",
   "execution_count": 28,
   "metadata": {},
   "outputs": [
    {
     "data": {
      "text/plain": [
       "'Sme'"
      ]
     },
     "execution_count": 28,
     "metadata": {},
     "output_type": "execute_result"
    }
   ],
   "source": [
    "my_name = 'Samuel'\n",
    "my_name[::2] # Characters at even position"
   ]
  },
  {
   "cell_type": "code",
   "execution_count": 29,
   "metadata": {},
   "outputs": [
    {
     "data": {
      "text/plain": [
       "'中字'"
      ]
     },
     "execution_count": 29,
     "metadata": {},
     "output_type": "execute_result"
    }
   ],
   "source": [
    "my_name = '中文字'\n",
    "my_name[::2] # Unicode characters are supported"
   ]
  },
  {
   "cell_type": "markdown",
   "metadata": {},
   "source": [
    "### String Formatting"
   ]
  },
  {
   "cell_type": "code",
   "execution_count": 30,
   "metadata": {},
   "outputs": [
    {
     "name": "stdout",
     "output_type": "stream",
     "text": [
      "72\n"
     ]
    }
   ],
   "source": [
    "my_mark = 71.5\n",
    "print(f'{my_mark:.0f}') # 0 is decimal places (rounded)"
   ]
  },
  {
   "cell_type": "code",
   "execution_count": 31,
   "metadata": {},
   "outputs": [
    {
     "name": "stdout",
     "output_type": "stream",
     "text": [
      "71\n"
     ]
    }
   ],
   "source": [
    "import math\n",
    "my_mark = math.floor(71.5) # floor before pass to format\n",
    "print(f'{my_mark:.0f}') # 0 is decimal places"
   ]
  },
  {
   "cell_type": "markdown",
   "metadata": {},
   "source": [
    "## 5. Loop"
   ]
  },
  {
   "cell_type": "code",
   "execution_count": 32,
   "metadata": {},
   "outputs": [
    {
     "name": "stdout",
     "output_type": "stream",
     "text": [
      "fruit='orange'\n",
      "fruit='apple'\n",
      "fruit='pear'\n",
      "fruit='banana'\n",
      "fruit='kiwi'\n"
     ]
    }
   ],
   "source": [
    "# Iterate through list of items\n",
    "fruits = ['orange', 'apple', 'pear', 'banana', 'kiwi']\n",
    "for fruit in fruits:\n",
    "    print(f'{fruit=}')"
   ]
  },
  {
   "cell_type": "code",
   "execution_count": 33,
   "metadata": {},
   "outputs": [
    {
     "name": "stdout",
     "output_type": "stream",
     "text": [
      "fruits[i]='orange'\n",
      "fruits[i]='apple'\n",
      "fruits[i]='pear'\n",
      "fruits[i]='banana'\n",
      "fruits[i]='kiwi'\n"
     ]
    }
   ],
   "source": [
    "# Iterate with range\n",
    "fruits = ['orange', 'apple', 'pear', 'banana', 'kiwi']\n",
    "for i in range(0, len(fruits)):\n",
    "    print(f'{fruits[i]=}')"
   ]
  },
  {
   "cell_type": "code",
   "execution_count": 34,
   "metadata": {},
   "outputs": [
    {
     "name": "stdout",
     "output_type": "stream",
     "text": [
      "fruits[i]='orange'\n",
      "fruits[i]='apple'\n",
      "fruits[i]='pear'\n",
      "fruits[i]='banana'\n",
      "fruits[i]='kiwi'\n"
     ]
    }
   ],
   "source": [
    "# Iterate with while\n",
    "fruits = ['orange', 'apple', 'pear', 'banana', 'kiwi']\n",
    "i = 0\n",
    "while i < len(fruits):\n",
    "    print(f'{fruits[i]=}')\n",
    "    i += 1"
   ]
  },
  {
   "cell_type": "markdown",
   "metadata": {},
   "source": [
    "## 6. Lambda\n",
    "\n",
    "### `sorted` 方法\n",
    "\n",
    "`sorted` 用於將 List 內容排序"
   ]
  },
  {
   "cell_type": "code",
   "execution_count": 35,
   "metadata": {},
   "outputs": [
    {
     "name": "stdout",
     "output_type": "stream",
     "text": [
      "sorted(plain_list)=[0, 1, 2, 5, 6, 10, 15]\n",
      "sorted(plain_list, reverse=True)=[15, 10, 6, 5, 2, 1, 0]\n"
     ]
    }
   ],
   "source": [
    "plain_list = [15, 2, 0, 1, 6, 5, 10]\n",
    "\n",
    "print(f'{sorted(plain_list)=}')\n",
    "print(f'{sorted(plain_list, reverse=True)=}')"
   ]
  },
  {
   "cell_type": "code",
   "execution_count": 36,
   "metadata": {},
   "outputs": [
    {
     "name": "stdout",
     "output_type": "stream",
     "text": [
      "sorted_list=[{'name': 'Samuel', 'mark': 10}, {'name': 'Billy', 'mark': 17}, {'name': 'Alex', 'mark': 20}]\n",
      "sorted_list_reversed=[{'name': 'Alex', 'mark': 20}, {'name': 'Billy', 'mark': 17}, {'name': 'Samuel', 'mark': 10}]\n"
     ]
    }
   ],
   "source": [
    "nested_list = [\n",
    "    { 'name': 'Samuel', 'mark': 10 },\n",
    "    { 'name': 'Alex', 'mark': 20 },\n",
    "    { 'name': 'Billy', 'mark': 17 }\n",
    "]\n",
    "\n",
    "sorted_list = sorted(nested_list, key=lambda v: v['mark'])\n",
    "print(f'{sorted_list=}')\n",
    "\n",
    "sorted_list_reversed = sorted(nested_list, key=lambda v: v['mark'], reverse=True)\n",
    "print(f'{sorted_list_reversed=}')"
   ]
  },
  {
   "cell_type": "code",
   "execution_count": 37,
   "metadata": {},
   "outputs": [
    {
     "name": "stdout",
     "output_type": "stream",
     "text": [
      "sorted_list=[('Samuel', 10), ('Billy', 17), ('Alex', 20)]\n",
      "sorted_list_reversed=[('Alex', 20), ('Billy', 17), ('Samuel', 10)]\n"
     ]
    }
   ],
   "source": [
    "tuple_list = [('Samuel', 10), ('Alex', 20), ('Billy', 17)]\n",
    "\n",
    "sorted_list = sorted(tuple_list, key=lambda v: v[1])\n",
    "print(f'{sorted_list=}')\n",
    "\n",
    "sorted_list_reversed = sorted(tuple_list, key=lambda v: v[1], reverse=True)\n",
    "print(f'{sorted_list_reversed=}')"
   ]
  }
 ],
 "metadata": {
  "interpreter": {
   "hash": "aee8b7b246df8f9039afb4144a1f6fd8d2ca17a180786b69acc140d282b71a49"
  },
  "kernelspec": {
   "display_name": "Python 3.9.7 64-bit",
   "language": "python",
   "name": "python3"
  },
  "language_info": {
   "codemirror_mode": {
    "name": "ipython",
    "version": 3
   },
   "file_extension": ".py",
   "mimetype": "text/x-python",
   "name": "python",
   "nbconvert_exporter": "python",
   "pygments_lexer": "ipython3",
   "version": "3.9.7"
  },
  "orig_nbformat": 4
 },
 "nbformat": 4,
 "nbformat_minor": 2
}
