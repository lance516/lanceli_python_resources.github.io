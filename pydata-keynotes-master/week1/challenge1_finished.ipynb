{
 "cells": [
  {
   "cell_type": "markdown",
   "metadata": {},
   "source": [
    "# Week 1 Challenge\n",
    "\n",
    "問題：\n",
    "\n",
    "* 有一系列外賣訂單（`orders`），分別要送到澳門、氹仔、路環\n",
    "* 你需要寫一個簡單的程式，將訂單按派送地點分流到不同的隊列：`macau_orders`、`taipa_orders`、`coloane_orders`\n",
    "* 以及計算每個地點的等候時間：\n",
    "\n",
    "  - 澳門 15 分鐘\n",
    "  - 氹仔 30 分鐘\n",
    "  - 路環 50 分鐘\n",
    "\n",
    "  例如：澳門區目前有 5 個訂單，澳門區的等候時間則是 5 x 15 = 75 分鐘"
   ]
  },
  {
   "cell_type": "markdown",
   "metadata": {},
   "source": [
    "## 訂單列表\n",
    "\n",
    "採用 List 結構，而每個 List item 中包含 Dictionary：\n",
    "\n",
    "* id 是序號\n",
    "* food 是下單的食物\n",
    "* destination 是目的地"
   ]
  },
  {
   "cell_type": "code",
   "execution_count": 1,
   "metadata": {},
   "outputs": [],
   "source": [
    "orders = [\n",
    "    { 'id': 1,  'food': 'steak',     'destination': 'macau' },\n",
    "    { 'id': 2,  'food': 'hamburger', 'destination': 'taipa' },\n",
    "    { 'id': 3,  'food': 'pizza',     'destination': 'coloane' },\n",
    "    { 'id': 4,  'food': 'speghetti', 'destination': 'macau' },\n",
    "    { 'id': 5,  'food': 'pizza',     'destination': 'macau' },\n",
    "    { 'id': 6,  'food': 'hamburger', 'destination': 'taipa' },\n",
    "    { 'id': 7,  'food': 'hamburger', 'destination': 'macau' },\n",
    "    { 'id': 8,  'food': 'hamburger', 'destination': 'taipa' },\n",
    "    { 'id': 9,  'food': 'steak',     'destination': 'coloane' },\n",
    "    { 'id': 10, 'food': 'hamburger', 'destination': 'macau' },\n",
    "]"
   ]
  },
  {
   "cell_type": "markdown",
   "metadata": {},
   "source": [
    "## 1. 將 `order` 按 `destination` key 分派到不同的 list\n",
    "\n",
    "可以使用 `for` 或 List Comprehension"
   ]
  },
  {
   "cell_type": "code",
   "execution_count": 2,
   "metadata": {},
   "outputs": [
    {
     "name": "stdout",
     "output_type": "stream",
     "text": [
      "macau_orders=[{'id': 1, 'food': 'steak', 'destination': 'macau'}, {'id': 4, 'food': 'speghetti', 'destination': 'macau'}, {'id': 5, 'food': 'pizza', 'destination': 'macau'}, {'id': 7, 'food': 'hamburger', 'destination': 'macau'}, {'id': 10, 'food': 'hamburger', 'destination': 'macau'}]\n",
      "taipa_orders=[{'id': 2, 'food': 'hamburger', 'destination': 'taipa'}, {'id': 6, 'food': 'hamburger', 'destination': 'taipa'}, {'id': 8, 'food': 'hamburger', 'destination': 'taipa'}]\n",
      "coloane_orders=[{'id': 3, 'food': 'pizza', 'destination': 'coloane'}, {'id': 9, 'food': 'steak', 'destination': 'coloane'}]\n"
     ]
    }
   ],
   "source": [
    "macau_orders = []\n",
    "taipa_orders = []\n",
    "coloane_orders = []\n",
    "\n",
    "# Insert your answer here\n",
    "for order in orders:\n",
    "    if order['destination'] == 'macau':\n",
    "        macau_orders.append(order)\n",
    "    elif order['destination'] == 'taipa':\n",
    "        taipa_orders.append(order)\n",
    "    elif order['destination'] == 'coloane':\n",
    "        coloane_orders.append(order)\n",
    "\n",
    "print(f'{macau_orders=}')\n",
    "print(f'{taipa_orders=}')\n",
    "print(f'{coloane_orders=}')"
   ]
  },
  {
   "cell_type": "markdown",
   "metadata": {},
   "source": [
    "得出結果應為：\n",
    "\n",
    "```python\n",
    "macau_orders = [\n",
    "    {'id': 1, 'food': 'steak', 'destination': 'macau'}, \n",
    "    {'id': 4, 'food': 'speghetti', 'destination': 'macau'}, \n",
    "    {'id': 5, 'food': 'pizza', 'destination': 'macau'}, \n",
    "    {'id': 7, 'food': 'hamburger', 'destination': 'macau'}, \n",
    "    {'id': 10, 'food': 'hamburger', 'destination': 'macau'}\n",
    "]\n",
    "taipa_orders = [\n",
    "    {'id': 2, 'food': 'hamburger', 'destination': 'taipa'}, \n",
    "    {'id': 6, 'food': 'hamburger', 'destination': 'taipa'}, \n",
    "    {'id': 8, 'food': 'hamburger', 'destination': 'taipa'}\n",
    "]\n",
    "coloane_orders = [\n",
    "    {'id': 3, 'food': 'pizza', 'destination': 'coloane'}, \n",
    "    {'id': 9, 'food': 'steak', 'destination': 'coloane'}\n",
    "]\n",
    "```"
   ]
  },
  {
   "cell_type": "markdown",
   "metadata": {},
   "source": [
    "## 2. 根據分區結果計算目的地等候時間\n",
    "\n",
    "- 澳門 15 分鐘\n",
    "- 氹仔 30 分鐘\n",
    "- 路環 50 分鐘"
   ]
  },
  {
   "cell_type": "code",
   "execution_count": 3,
   "metadata": {},
   "outputs": [
    {
     "name": "stdout",
     "output_type": "stream",
     "text": [
      "澳門區等候時間 75 分鐘\n",
      "氹仔區等候時間 90 分鐘\n",
      "路環區等候時間 100 分鐘\n"
     ]
    }
   ],
   "source": [
    "macau_wait = 0\n",
    "taipa_wait = 0\n",
    "coloane_wait = 0\n",
    "\n",
    "# Insert your answer here\n",
    "macau_wait = len(macau_orders) * 15\n",
    "taipa_wait = len(taipa_orders) * 30\n",
    "coloane_wait = len(coloane_orders) * 50\n",
    "\n",
    "print(f'澳門區等候時間 {macau_wait:d} 分鐘')\n",
    "print(f'氹仔區等候時間 {taipa_wait:d} 分鐘')\n",
    "print(f'路環區等候時間 {coloane_wait:d} 分鐘')"
   ]
  },
  {
   "cell_type": "markdown",
   "metadata": {},
   "source": [
    "得出結果應為:\n",
    "\n",
    "澳門區等候時間 75 分鐘  \n",
    "氹仔區等候時間 90 分鐘  \n",
    "路環區等候時間 100 分鐘  "
   ]
  },
  {
   "cell_type": "markdown",
   "metadata": {},
   "source": [
    "## 3. Extra: 從資料中找出最受歡迎食物\n",
    "\n",
    "在 `orders` 中尋找，可以用以下方式找出：\n",
    "\n",
    "1. 使用 `for` 計算每種食物的訂單數\n",
    "2. 使用 `sorted()` 將每種食物的訂單數排序\n",
    "3. 取得最多訂單的食物 (`ordered_list` 中的第一位)"
   ]
  },
  {
   "cell_type": "code",
   "execution_count": 4,
   "metadata": {},
   "outputs": [
    {
     "name": "stdout",
     "output_type": "stream",
     "text": [
      "最受歡迎的食物是 hamburger\n"
     ]
    }
   ],
   "source": [
    "food_list = {}\n",
    "\n",
    "# Answer: count food here\n",
    "for order in orders:\n",
    "    food = order['food']\n",
    "    if food in food_list:\n",
    "        food_list[food] += 1\n",
    "    else:\n",
    "        food_list[food] = 1\n",
    "\n",
    "# Answer: sort food_list here\n",
    "ordered_list = sorted(food_list.items(), key=lambda v: v[1], reverse=True) \n",
    "\n",
    "most_popular = ordered_list[0][0]\n",
    "print(f'最受歡迎的食物是 {most_popular}')"
   ]
  },
  {
   "cell_type": "markdown",
   "metadata": {},
   "source": [
    "得出結果應為:\n",
    "\n",
    "最受歡迎的食物是 hamburger"
   ]
  }
 ],
 "metadata": {
  "interpreter": {
   "hash": "aee8b7b246df8f9039afb4144a1f6fd8d2ca17a180786b69acc140d282b71a49"
  },
  "kernelspec": {
   "display_name": "Python 3.9.7 64-bit",
   "language": "python",
   "name": "python3"
  },
  "language_info": {
   "codemirror_mode": {
    "name": "ipython",
    "version": 3
   },
   "file_extension": ".py",
   "mimetype": "text/x-python",
   "name": "python",
   "nbconvert_exporter": "python",
   "pygments_lexer": "ipython3",
   "version": "3.9.7"
  },
  "orig_nbformat": 4
 },
 "nbformat": 4,
 "nbformat_minor": 2
}
