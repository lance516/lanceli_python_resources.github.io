{
 "cells": [
  {
   "cell_type": "code",
   "execution_count": 52,
   "metadata": {},
   "outputs": [],
   "source": [
    "# Imports\n",
    "\n",
    "import random\n",
    "import pandas as pd\n",
    "\n",
    "import urllib.request\n",
    "import json\n",
    "\n",
    "import numpy as np\n",
    "import matplotlib.pyplot as plt\n",
    "\n",
    "plt.rcParams['font.family'] = ['Noto Sans CJK TC']\n",
    "plt.rcParams['figure.figsize'] = [12, 10]"
   ]
  },
  {
   "cell_type": "markdown",
   "metadata": {},
   "source": [
    "# 例子 Examples"
   ]
  },
  {
   "cell_type": "markdown",
   "metadata": {},
   "source": [
    "## 抽獎"
   ]
  },
  {
   "cell_type": "code",
   "execution_count": 53,
   "metadata": {},
   "outputs": [
    {
     "name": "stdout",
     "output_type": "stream",
     "text": [
      "Billy\n",
      "['Joe', 'Thomas']\n"
     ]
    }
   ],
   "source": [
    "\n",
    "names = [\n",
    "    'Samuel',\n",
    "    'Mary',\n",
    "    'Peter',\n",
    "    'Billy',\n",
    "    'Thomas',\n",
    "    'Joe',\n",
    "]\n",
    "\n",
    "index = random.randrange(0, len(names))\n",
    "print(names[index])\n",
    "\n",
    "print(random.choices(names, k=2)) # Note: Two name might be the same"
   ]
  },
  {
   "cell_type": "markdown",
   "metadata": {},
   "source": [
    "## 讀取 CSV "
   ]
  },
  {
   "cell_type": "code",
   "execution_count": 54,
   "metadata": {},
   "outputs": [
    {
     "data": {
      "text/html": [
       "<div>\n",
       "<style scoped>\n",
       "    .dataframe tbody tr th:only-of-type {\n",
       "        vertical-align: middle;\n",
       "    }\n",
       "\n",
       "    .dataframe tbody tr th {\n",
       "        vertical-align: top;\n",
       "    }\n",
       "\n",
       "    .dataframe thead th {\n",
       "        text-align: right;\n",
       "    }\n",
       "</style>\n",
       "<table border=\"1\" class=\"dataframe\">\n",
       "  <thead>\n",
       "    <tr style=\"text-align: right;\">\n",
       "      <th></th>\n",
       "      <th>id</th>\n",
       "      <th>name</th>\n",
       "      <th>username</th>\n",
       "      <th>email</th>\n",
       "      <th>address/street</th>\n",
       "      <th>address/suite</th>\n",
       "      <th>address/city</th>\n",
       "      <th>address/zipcode</th>\n",
       "      <th>address/geo/lat</th>\n",
       "      <th>address/geo/lng</th>\n",
       "      <th>phone</th>\n",
       "      <th>website</th>\n",
       "      <th>company/name</th>\n",
       "      <th>company/catchPhrase</th>\n",
       "      <th>company/bs</th>\n",
       "    </tr>\n",
       "  </thead>\n",
       "  <tbody>\n",
       "    <tr>\n",
       "      <th>0</th>\n",
       "      <td>1</td>\n",
       "      <td>Leanne Graham</td>\n",
       "      <td>Bret</td>\n",
       "      <td>Sincere@april.biz</td>\n",
       "      <td>Kulas Light</td>\n",
       "      <td>Apt. 556</td>\n",
       "      <td>Gwenborough</td>\n",
       "      <td>92998-3874</td>\n",
       "      <td>-37.3159</td>\n",
       "      <td>81.1496</td>\n",
       "      <td>1-770-736-8031 x56442</td>\n",
       "      <td>hildegard.org</td>\n",
       "      <td>Romaguera-Crona</td>\n",
       "      <td>Multi-layered client-server neural-net</td>\n",
       "      <td>harness real-time e-markets</td>\n",
       "    </tr>\n",
       "    <tr>\n",
       "      <th>1</th>\n",
       "      <td>2</td>\n",
       "      <td>Ervin Howell</td>\n",
       "      <td>Antonette</td>\n",
       "      <td>Shanna@melissa.tv</td>\n",
       "      <td>Victor Plains</td>\n",
       "      <td>Suite 879</td>\n",
       "      <td>Wisokyburgh</td>\n",
       "      <td>90566-7771</td>\n",
       "      <td>-43.9509</td>\n",
       "      <td>-34.4618</td>\n",
       "      <td>010-692-6593 x09125</td>\n",
       "      <td>anastasia.net</td>\n",
       "      <td>Deckow-Crist</td>\n",
       "      <td>Proactive didactic contingency</td>\n",
       "      <td>synergize scalable supply-chains</td>\n",
       "    </tr>\n",
       "    <tr>\n",
       "      <th>2</th>\n",
       "      <td>3</td>\n",
       "      <td>Clementine Bauch</td>\n",
       "      <td>Samantha</td>\n",
       "      <td>Nathan@yesenia.net</td>\n",
       "      <td>Douglas Extension</td>\n",
       "      <td>Suite 847</td>\n",
       "      <td>McKenziehaven</td>\n",
       "      <td>59590-4157</td>\n",
       "      <td>-68.6102</td>\n",
       "      <td>-47.0653</td>\n",
       "      <td>1-463-123-4447</td>\n",
       "      <td>ramiro.info</td>\n",
       "      <td>Romaguera-Jacobson</td>\n",
       "      <td>Face to face bifurcated interface</td>\n",
       "      <td>e-enable strategic applications</td>\n",
       "    </tr>\n",
       "    <tr>\n",
       "      <th>3</th>\n",
       "      <td>4</td>\n",
       "      <td>Patricia Lebsack</td>\n",
       "      <td>Karianne</td>\n",
       "      <td>Julianne.OConner@kory.org</td>\n",
       "      <td>Hoeger Mall</td>\n",
       "      <td>Apt. 692</td>\n",
       "      <td>South Elvis</td>\n",
       "      <td>53919-4257</td>\n",
       "      <td>29.4572</td>\n",
       "      <td>-164.2990</td>\n",
       "      <td>493-170-9623 x156</td>\n",
       "      <td>kale.biz</td>\n",
       "      <td>Robel-Corkery</td>\n",
       "      <td>Multi-tiered zero tolerance productivity</td>\n",
       "      <td>transition cutting-edge web services</td>\n",
       "    </tr>\n",
       "    <tr>\n",
       "      <th>4</th>\n",
       "      <td>5</td>\n",
       "      <td>Chelsey Dietrich</td>\n",
       "      <td>Kamren</td>\n",
       "      <td>Lucio_Hettinger@annie.ca</td>\n",
       "      <td>Skiles Walks</td>\n",
       "      <td>Suite 351</td>\n",
       "      <td>Roscoeview</td>\n",
       "      <td>33263</td>\n",
       "      <td>-31.8129</td>\n",
       "      <td>62.5342</td>\n",
       "      <td>(254)954-1289</td>\n",
       "      <td>demarco.info</td>\n",
       "      <td>Keebler LLC</td>\n",
       "      <td>User-centric fault-tolerant solution</td>\n",
       "      <td>revolutionize end-to-end systems</td>\n",
       "    </tr>\n",
       "    <tr>\n",
       "      <th>5</th>\n",
       "      <td>6</td>\n",
       "      <td>Mrs. Dennis Schulist</td>\n",
       "      <td>Leopoldo_Corkery</td>\n",
       "      <td>Karley_Dach@jasper.info</td>\n",
       "      <td>Norberto Crossing</td>\n",
       "      <td>Apt. 950</td>\n",
       "      <td>South Christy</td>\n",
       "      <td>23505-1337</td>\n",
       "      <td>-71.4197</td>\n",
       "      <td>71.7478</td>\n",
       "      <td>1-477-935-8478 x6430</td>\n",
       "      <td>ola.org</td>\n",
       "      <td>Considine-Lockman</td>\n",
       "      <td>Synchronised bottom-line interface</td>\n",
       "      <td>e-enable innovative applications</td>\n",
       "    </tr>\n",
       "    <tr>\n",
       "      <th>6</th>\n",
       "      <td>7</td>\n",
       "      <td>Kurtis Weissnat</td>\n",
       "      <td>Elwyn.Skiles</td>\n",
       "      <td>Telly.Hoeger@billy.biz</td>\n",
       "      <td>Rex Trail</td>\n",
       "      <td>Suite 280</td>\n",
       "      <td>Howemouth</td>\n",
       "      <td>58804-1099</td>\n",
       "      <td>24.8918</td>\n",
       "      <td>21.8984</td>\n",
       "      <td>210.067.6132</td>\n",
       "      <td>elvis.io</td>\n",
       "      <td>Johns Group</td>\n",
       "      <td>Configurable multimedia task-force</td>\n",
       "      <td>generate enterprise e-tailers</td>\n",
       "    </tr>\n",
       "    <tr>\n",
       "      <th>7</th>\n",
       "      <td>8</td>\n",
       "      <td>Nicholas Runolfsdottir V</td>\n",
       "      <td>Maxime_Nienow</td>\n",
       "      <td>Sherwood@rosamond.me</td>\n",
       "      <td>Ellsworth Summit</td>\n",
       "      <td>Suite 729</td>\n",
       "      <td>Aliyaview</td>\n",
       "      <td>45169</td>\n",
       "      <td>-14.3990</td>\n",
       "      <td>-120.7677</td>\n",
       "      <td>586.493.6943 x140</td>\n",
       "      <td>jacynthe.com</td>\n",
       "      <td>Abernathy Group</td>\n",
       "      <td>Implemented secondary concept</td>\n",
       "      <td>e-enable extensible e-tailers</td>\n",
       "    </tr>\n",
       "    <tr>\n",
       "      <th>8</th>\n",
       "      <td>9</td>\n",
       "      <td>Glenna Reichert</td>\n",
       "      <td>Delphine</td>\n",
       "      <td>Chaim_McDermott@dana.io</td>\n",
       "      <td>Dayna Park</td>\n",
       "      <td>Suite 449</td>\n",
       "      <td>Bartholomebury</td>\n",
       "      <td>76495-3109</td>\n",
       "      <td>24.6463</td>\n",
       "      <td>-168.8889</td>\n",
       "      <td>(775)976-6794 x41206</td>\n",
       "      <td>conrad.com</td>\n",
       "      <td>Yost and Sons</td>\n",
       "      <td>Switchable contextually-based project</td>\n",
       "      <td>aggregate real-time technologies</td>\n",
       "    </tr>\n",
       "    <tr>\n",
       "      <th>9</th>\n",
       "      <td>10</td>\n",
       "      <td>Clementina DuBuque</td>\n",
       "      <td>Moriah.Stanton</td>\n",
       "      <td>Rey.Padberg@karina.biz</td>\n",
       "      <td>Kattie Turnpike</td>\n",
       "      <td>Suite 198</td>\n",
       "      <td>Lebsackbury</td>\n",
       "      <td>31428-2261</td>\n",
       "      <td>-38.2386</td>\n",
       "      <td>57.2232</td>\n",
       "      <td>024-648-3804</td>\n",
       "      <td>ambrose.net</td>\n",
       "      <td>Hoeger LLC</td>\n",
       "      <td>Centralized empowering task-force</td>\n",
       "      <td>target end-to-end models</td>\n",
       "    </tr>\n",
       "  </tbody>\n",
       "</table>\n",
       "</div>"
      ],
      "text/plain": [
       "   id                      name          username                      email  \\\n",
       "0   1             Leanne Graham              Bret          Sincere@april.biz   \n",
       "1   2              Ervin Howell         Antonette          Shanna@melissa.tv   \n",
       "2   3          Clementine Bauch          Samantha         Nathan@yesenia.net   \n",
       "3   4          Patricia Lebsack          Karianne  Julianne.OConner@kory.org   \n",
       "4   5          Chelsey Dietrich            Kamren   Lucio_Hettinger@annie.ca   \n",
       "5   6      Mrs. Dennis Schulist  Leopoldo_Corkery    Karley_Dach@jasper.info   \n",
       "6   7           Kurtis Weissnat      Elwyn.Skiles     Telly.Hoeger@billy.biz   \n",
       "7   8  Nicholas Runolfsdottir V     Maxime_Nienow       Sherwood@rosamond.me   \n",
       "8   9           Glenna Reichert          Delphine    Chaim_McDermott@dana.io   \n",
       "9  10        Clementina DuBuque    Moriah.Stanton     Rey.Padberg@karina.biz   \n",
       "\n",
       "      address/street address/suite    address/city address/zipcode  \\\n",
       "0        Kulas Light      Apt. 556     Gwenborough      92998-3874   \n",
       "1      Victor Plains     Suite 879     Wisokyburgh      90566-7771   \n",
       "2  Douglas Extension     Suite 847   McKenziehaven      59590-4157   \n",
       "3        Hoeger Mall      Apt. 692     South Elvis      53919-4257   \n",
       "4       Skiles Walks     Suite 351      Roscoeview           33263   \n",
       "5  Norberto Crossing      Apt. 950   South Christy      23505-1337   \n",
       "6          Rex Trail     Suite 280       Howemouth      58804-1099   \n",
       "7   Ellsworth Summit     Suite 729       Aliyaview           45169   \n",
       "8         Dayna Park     Suite 449  Bartholomebury      76495-3109   \n",
       "9    Kattie Turnpike     Suite 198     Lebsackbury      31428-2261   \n",
       "\n",
       "   address/geo/lat  address/geo/lng                  phone        website  \\\n",
       "0         -37.3159          81.1496  1-770-736-8031 x56442  hildegard.org   \n",
       "1         -43.9509         -34.4618    010-692-6593 x09125  anastasia.net   \n",
       "2         -68.6102         -47.0653         1-463-123-4447    ramiro.info   \n",
       "3          29.4572        -164.2990      493-170-9623 x156       kale.biz   \n",
       "4         -31.8129          62.5342          (254)954-1289   demarco.info   \n",
       "5         -71.4197          71.7478   1-477-935-8478 x6430        ola.org   \n",
       "6          24.8918          21.8984           210.067.6132       elvis.io   \n",
       "7         -14.3990        -120.7677      586.493.6943 x140   jacynthe.com   \n",
       "8          24.6463        -168.8889   (775)976-6794 x41206     conrad.com   \n",
       "9         -38.2386          57.2232           024-648-3804    ambrose.net   \n",
       "\n",
       "         company/name                       company/catchPhrase  \\\n",
       "0     Romaguera-Crona    Multi-layered client-server neural-net   \n",
       "1        Deckow-Crist            Proactive didactic contingency   \n",
       "2  Romaguera-Jacobson         Face to face bifurcated interface   \n",
       "3       Robel-Corkery  Multi-tiered zero tolerance productivity   \n",
       "4         Keebler LLC      User-centric fault-tolerant solution   \n",
       "5   Considine-Lockman        Synchronised bottom-line interface   \n",
       "6         Johns Group        Configurable multimedia task-force   \n",
       "7     Abernathy Group             Implemented secondary concept   \n",
       "8       Yost and Sons     Switchable contextually-based project   \n",
       "9          Hoeger LLC         Centralized empowering task-force   \n",
       "\n",
       "                             company/bs  \n",
       "0           harness real-time e-markets  \n",
       "1      synergize scalable supply-chains  \n",
       "2       e-enable strategic applications  \n",
       "3  transition cutting-edge web services  \n",
       "4      revolutionize end-to-end systems  \n",
       "5      e-enable innovative applications  \n",
       "6         generate enterprise e-tailers  \n",
       "7         e-enable extensible e-tailers  \n",
       "8      aggregate real-time technologies  \n",
       "9              target end-to-end models  "
      ]
     },
     "execution_count": 54,
     "metadata": {},
     "output_type": "execute_result"
    }
   ],
   "source": [
    "data = pd.read_csv('./data/data.csv')\n",
    "data"
   ]
  },
  {
   "cell_type": "markdown",
   "metadata": {},
   "source": [
    "## 網絡抓取資料 (API)"
   ]
  },
  {
   "cell_type": "code",
   "execution_count": 55,
   "metadata": {},
   "outputs": [
    {
     "data": {
      "text/plain": [
       "['sunt aut facere repellat provident occaecati excepturi optio reprehenderit',\n",
       " 'qui est esse',\n",
       " 'ea molestias quasi exercitationem repellat qui ipsa sit aut',\n",
       " 'eum et est occaecati',\n",
       " 'nesciunt quas odio',\n",
       " 'dolorem eum magni eos aperiam quia',\n",
       " 'magnam facilis autem',\n",
       " 'dolorem dolore est ipsam',\n",
       " 'nesciunt iure omnis dolorem tempora et accusantium',\n",
       " 'optio molestias id quia eum']"
      ]
     },
     "execution_count": 55,
     "metadata": {},
     "output_type": "execute_result"
    }
   ],
   "source": [
    "\n",
    "\n",
    "response = urllib.request.urlopen('https://jsonplaceholder.typicode.com/users/1/posts')\n",
    "data = response.read().decode('utf-8')\n",
    "\n",
    "posts = json.loads(data)\n",
    "list(map(lambda d: d['title'], posts))"
   ]
  },
  {
   "cell_type": "markdown",
   "metadata": {},
   "source": [
    "## 繪畫圖表\n",
    "\n",
    "資料來源: [DATA.gov.mo 入境旅客](https://data.gov.mo/Detail?id=3546225a-2a34-4645-b01e-6752aed03993)"
   ]
  },
  {
   "cell_type": "code",
   "execution_count": 56,
   "metadata": {},
   "outputs": [
    {
     "data": {
      "text/plain": [
       "<AxesSubplot:title={'center':'Visitors to Macau'}, xlabel='Year', ylabel='Visitors (millions)'>"
      ]
     },
     "execution_count": 56,
     "metadata": {},
     "output_type": "execute_result"
    },
    {
     "data": {
      "image/png": "[encoded data removed]",
      "text/plain": [
       "<Figure size 864x720 with 1 Axes>"
      ]
     },
     "metadata": {
      "needs_background": "light"
     },
     "output_type": "display_data"
    }
   ],
   "source": [
    "import pandas as pd\n",
    "\n",
    "df = pd.read_excel('./data/visitorArrivals.xlsx')\n",
    "result = df[df['period'].str.contains('^[0-9]{4}年$')].sort_values(by='period')\n",
    "result['value'] = result['value'].transform(lambda v: v//(10**6))\n",
    "\n",
    "result.plot(kind='bar', x='period', y='value', xlabel='Year', ylabel='Visitors (millions)', title='Visitors to Macau', legend = False)"
   ]
  },
  {
   "cell_type": "code",
   "execution_count": 57,
   "metadata": {},
   "outputs": [
    {
     "data": {
      "image/png": "[encoded data removed]",
      "text/plain": [
       "<Figure size 864x720 with 1 Axes>"
      ]
     },
     "metadata": {
      "needs_background": "light"
     },
     "output_type": "display_data"
    }
   ],
   "source": [
    "df = pd.read_excel('./data/Bridge_traffic_flow_Amizade.xlsx', skiprows=1) # First row is empty :(\n",
    "df.columns = df.columns.str.strip() # There are white space in the column header\n",
    "\n",
    "# grouped by year and month\n",
    "df['date'] = pd.to_datetime(df['year'].astype(str) + '-' + df['month'].astype(str) + '-1')\n",
    "result = df.sort_values('date').query('item == \"澳門 ---> 氹仔\"')\n",
    "# result\n",
    "grouped = result.groupby('subitem')\n",
    "\n",
    "labels = grouped.get_group('電單車')['date'].transform(lambda v:'{0:%Y}-{0:%m}'.format(v))\n",
    "width = 0.9\n",
    "x = np.arange(len(labels))\n",
    "\n",
    "fig, ax = plt.subplots()\n",
    "\n",
    "ax.bar(x - width / 3, grouped.get_group('重型汽車')['amount'], width = width / 3, label='重型汽車')\n",
    "ax.bar(x, grouped.get_group('輕型汽車')['amount'], width = width / 3, label='輕型汽車')\n",
    "ax.bar(x + width / 3, grouped.get_group('電單車')['amount'], width = width / 3, label='電單車')\n",
    " \n",
    "ax.set_title('Average Daily Traffic by Year and Month')\n",
    "ax.set_ylabel('Traffic')\n",
    "ax.set_xticks(x, labels, rotation=45, horizontalalignment='right')\n",
    "ax.legend(fontsize=14)\n",
    "\n",
    "fig.tight_layout()\n",
    "plt.show()"
   ]
  }
 ],
 "metadata": {
  "interpreter": {
   "hash": "aee8b7b246df8f9039afb4144a1f6fd8d2ca17a180786b69acc140d282b71a49"
  },
  "kernelspec": {
   "display_name": "Python 3.9.7 64-bit",
   "language": "python",
   "name": "python3"
  },
  "language_info": {
   "codemirror_mode": {
    "name": "ipython",
    "version": 3
   },
   "file_extension": ".py",
   "mimetype": "text/x-python",
   "name": "python",
   "nbconvert_exporter": "python",
   "pygments_lexer": "ipython3",
   "version": "3.9.7"
  },
  "orig_nbformat": 4
 },
 "nbformat": 4,
 "nbformat_minor": 2
}
