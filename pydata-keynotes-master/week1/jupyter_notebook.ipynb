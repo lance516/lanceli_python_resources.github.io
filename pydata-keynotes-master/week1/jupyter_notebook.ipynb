{
 "cells": [
  {
   "cell_type": "markdown",
   "metadata": {},
   "source": [
    "# Jupyter Notebook Playground\n",
    "\n",
    "## 在 VSCode 中使用 Jupyter Notebook\n",
    "\n",
    "1. 安裝 Visual Studio Code\n",
    "\n",
    "    [下載地址](https://code.visualstudio.com/)  \n",
    "    \n",
    "1. 安裝 Python 3.9\n",
    "\n",
    "    下載 3.9 Windows installer (64-bit)  \n",
    "\n",
    "    [下載地址](https://www.python.org/downloads/)\n",
    "\n",
    "\n",
    "1. 在 Visual Studio Code 安裝 Python Extension\n",
    "\n",
    "    [參考文件](https://code.visualstudio.com/docs/python/python-tutorial)\n",
    "\n",
    "    ![](./images/install_py_ext.png)\n",
    "\n",
    "1. 安裝 Jupyter (留待執行 Notebook 時提示安裝)"
   ]
  },
  {
   "cell_type": "markdown",
   "metadata": {},
   "source": [
    "# 使用 Python Notebook\n",
    "\n",
    "[參考文件](https://code.visualstudio.com/docs/datascience/jupyter-notebooks#_table-of-contents)\n",
    "\n",
    "## Cells\n",
    "\n",
    "1. 按 \"+ Code\" 加入 Cell，或使用 Shift + Enter\n",
    "\n",
    "1. \"Python\" 類型的 Cell 可以執行 Python 程式，\"Markdown\" 類型用於編寫文字內容及格式\n",
    "\n",
    "1. 輸入 `print('Hello World')`\n",
    "\n",
    "\n",
    "\n",
    "1. 按 \"Execute Cell\" ▶️，執行程式。如第一次執行可能會提示你安裝 Jupyter Notebook，按 \"Install\" 安裝所需軟件。\n",
    "\n",
    "    ![](./images/install_jupyter.png)\n",
    "\n",
    "1. 成功執行 Cell\n",
    "\n",
    "    ![](./images/execute_cell.png)\n",
    "\n",
    "## Kernels\n",
    "\n",
    "1. 在 Notebook 中 \"Python interpreter\" 稱為 Kernel，視乎需要可以選擇不同版本的 Python 執行 Notebook。\n",
    "\n",
    "    ![](./images/kernel.png)"
   ]
  },
  {
   "cell_type": "markdown",
   "metadata": {},
   "source": [
    "## Markdown\n",
    "\n",
    "簡單的標示語言，通過轉換器能夠將一些標示 Markup 轉化成不同的格式，如 HTML。\n",
    "\n",
    "### 標題\n",
    "\n",
    "使用 `#` 標註每一個段落的標題\n",
    "\n",
    "`# 標題一`\n",
    "\n",
    "`## 標題二`\n",
    "\n",
    "`### 標題三`\n",
    "\n",
    "### 文字格式\n",
    "\n",
    "`**粗體**`\n",
    "\n",
    "`*斜體*`\n",
    "\n",
    "### 列點\n",
    "\n",
    "```\n",
    "- 重點\n",
    "- 重點\n",
    "- 重點\n",
    "```\n",
    "\n",
    "```\n",
    "1. 第一點\n",
    "2. 第二點\n",
    "3. 第三點\n",
    "```\n",
    "\n",
    "### 程式片段\n",
    "\n",
    "\\``print('hi')`\\`\n",
    "\n",
    "### 連結\n",
    "\n",
    "`[title](https://www.example.com)`\n",
    "\n",
    "### 圖片\n",
    "\n",
    "`![alt text](image.jpg)`\n",
    "\n",
    "[參考網址](https://www.markdownguide.org/cheat-sheet/)"
   ]
  },
  {
   "cell_type": "markdown",
   "metadata": {},
   "source": [
    "\n",
    "\n",
    "## Jupyter: Variables\n",
    "\n",
    "![](./images/jupyter_var.png)\n"
   ]
  }
 ],
 "metadata": {
  "interpreter": {
   "hash": "aee8b7b246df8f9039afb4144a1f6fd8d2ca17a180786b69acc140d282b71a49"
  },
  "kernelspec": {
   "display_name": "Python 3.9.7 64-bit",
   "language": "python",
   "name": "python3"
  },
  "language_info": {
   "codemirror_mode": {
    "name": "ipython",
    "version": 3
   },
   "file_extension": ".py",
   "mimetype": "text/x-python",
   "name": "python",
   "nbconvert_exporter": "python",
   "pygments_lexer": "ipython3",
   "version": "3.9.7"
  },
  "orig_nbformat": 4
 },
 "nbformat": 4,
 "nbformat_minor": 2
}
