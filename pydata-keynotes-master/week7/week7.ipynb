{
 "cells": [
  {
   "cell_type": "code",
   "execution_count": null,
   "metadata": {},
   "outputs": [],
   "source": []
  },
  {
   "cell_type": "code",
   "execution_count": null,
   "metadata": {},
   "outputs": [
    {
     "name": "stdout",
     "output_type": "stream",
     "text": [
      "Letter part\n",
      "<re.Match object; span=(0, 1), match='M'>\n",
      "<re.Match object; span=(0, 1), match='M'>\n",
      "\n",
      "First number only\n",
      "None\n",
      "<re.Match object; span=(2, 3), match='0'>\n",
      "\n",
      "All number part (0 or more)\n",
      "None\n",
      "<re.Match object; span=(2, 6), match='0002'>\n",
      "\n",
      "All number part (1 or more)\n",
      "<re.Match object; span=(0, 0), match=''>\n",
      "<re.Match object; span=(0, 0), match=''>\n",
      "\n",
      "All number part (exact 4 digits)\n",
      "None\n",
      "<re.Match object; span=(2, 6), match='0002'>\n",
      "\n",
      "All number part (between 2-4 digits)\n",
      "None\n",
      "<re.Match object; span=(2, 4), match='02'>\n",
      "<re.Match object; span=(2, 5), match='042'>\n",
      "<re.Match object; span=(2, 6), match='0424'>\n",
      "\n"
     ]
    }
   ],
   "source": [
    "# Letter part\n",
    "print(\"Letter part\")\n",
    "print(re.match(\"[A-Z]\", \"M-0002\"))\n",
    "print(re.search(\"[A-Z]\", \"M-0002\"), end=\"\\n\\n\")\n",
    "\n",
    "# First number only\n",
    "print(\"First number only\")\n",
    "print(re.match(\"[0-9]\", \"M-0002\"))\n",
    "print(re.search(\"[0-9]\", \"M-0002\"), end=\"\\n\\n\")\n",
    "\n",
    "# All number part (0 or more)\n",
    "print(\"All number part (0 or more)\")\n",
    "print(re.match(\"[0-9]+\", \"M-0002\"))\n",
    "print(re.search(\"[0-9]+\", \"M-0002\"), end=\"\\n\\n\")\n",
    "\n",
    "# All number part (1 or more)\n",
    "print(\"All number part (1 or more)\")\n",
    "print(re.match(\"[0-9]*\", \"M-0002\"))\n",
    "print(re.search(\"[0-9]*\", \"M-0002\"), end=\"\\n\\n\")\n",
    "\n",
    "# All number part (exact 4 digits)\n",
    "print(\"All number part (exact 4 digits)\")\n",
    "print(re.match(\"[0-9]{4}\", \"M-0002\"))\n",
    "print(re.search(\"[0-9]{4}\", \"M-0002\"), end=\"\\n\\n\")\n",
    "\n",
    "# All number part (between 2-4 digits)\n",
    "print(\"All number part (between 2-4 digits)\")\n",
    "print(re.search(\"[0-9]{2,4}\", \"M-0\"))\n",
    "print(re.search(\"[0-9]{2,4}\", \"M-02\"))\n",
    "print(re.search(\"[0-9]{2,4}\", \"M-042\"))\n",
    "print(re.search(\"[0-9]{2,4}\", \"M-0424\"), end=\"\\n\\n\")\n",
    "\n",
    "# All number part (between 2-4 digits)\n",
    "print(\"Match the model number\")\n",
    "print(re.search(\"([a-zA-Z])([-]?)([0-9]{4})\", \"M-0001\"))\n",
    "print(re.search(\"([a-zA-Z])([-]?)([0-9]{4})\", \"m-0222\"))\n",
    "print(re.search(\"([a-zA-Z])([-]?)([0-9]{4})\", \"J1234\"))\n",
    "print(re.search(\"([a-zA-Z])([-]?)([0-9]{4})\", \"j0424\"), end=\"\\n\\n\")"
   ]
  },
  {
   "cell_type": "code",
   "execution_count": null,
   "metadata": {},
   "outputs": [
    {
     "data": {
      "text/plain": [
       "['M-0002', 'T-0001', 'M-0002', 'T-0001', 'J-0003']"
      ]
     },
     "metadata": {},
     "output_type": "display_data"
    }
   ],
   "source": [
    "import re\n",
    "\n",
    "buggy_model_numbers2 = [\n",
    "    \"M-0002\",\n",
    "    \"t-0001\",\n",
    "    \"J-0003\",\n",
    "]\n",
    "\n",
    "def process_model_number(model_number):\n",
    "    matches = re.match(\"([a-zA-Z])([-]?)([0-9]{4})\", model_number)\n",
    "    # (M)(-)(0002)\n",
    "    prefix = matches.group(1) # first match\n",
    "    numbers = matches.group(3) # third match\n",
    "    return f'{prefix.upper()}-{numbers}'\n",
    "\n",
    "list(map(process_model_number, buggy_model_numbers2))"
   ]
  }
 ],
 "metadata": {
  "language_info": {
   "name": "python"
  },
  "orig_nbformat": 4
 },
 "nbformat": 4,
 "nbformat_minor": 2
}
