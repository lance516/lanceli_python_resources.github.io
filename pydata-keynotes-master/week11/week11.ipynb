{
 "cells": [
  {
   "cell_type": "markdown",
   "metadata": {},
   "source": [
    "# Python & Data - Week 11\n",
    "\n",
    "Web Scraping - Beautiful Soup 及進一步處理\n",
    "\n",
    "[打包下載](../week11.zip)\n"
   ]
  },
  {
   "cell_type": "markdown",
   "metadata": {},
   "source": [
    "Beautiful Soup\n",
    "\n",
    "1. 使用 select 方法搜尋\n",
    "\n",
    "`soup.select(css_selector)`\n",
    "> 與 find_all 類似。但是 select 接受 css_selector 作為參數，例如：`div.news-item-container`  \n",
    "> `div` 為標籤名稱，`.news-item-container` 為 class 名。  \n",
    "> 可同時選取多個 CSS 的 class"
   ]
  },
  {
   "cell_type": "markdown",
   "metadata": {},
   "source": [
    "## 使用上週的方法抓取\"澳門特區入口網站消息\"\n",
    "\n",
    "網址: https://www.gov.mo/zh-hant/news/"
   ]
  },
  {
   "cell_type": "code",
   "execution_count": 1,
   "metadata": {},
   "outputs": [
    {
     "name": "stdout",
     "output_type": "stream",
     "text": [
      "交通事務局（DSAT）\n",
      "“2021/2022學年大專學生學習用品津貼”接受登記\n",
      "衛生局（SS）\n",
      "漁船火警\n",
      "海事局海關持續跟進救援工作\n",
      "海事及水務局（DSAMA）\n",
      "內港漁船火警 海事局海關全力救援\n",
      "社會工作局（IAS）\n",
      "（圖文包）開放合資格家務工作準外僱或外僱入境限制豁免申請\n",
      "生產力中心領澳時裝設計參加大灣區巡展\n",
      "一孖藝術小組“夢之寓言”威尼斯國際藝術雙年展揭幕\n",
      "4月26日凌晨1時起新增及取消對曾到內地相關區域人士的防疫措施\n",
      "藝術節多項節目門票續發售\n",
      "文化局（IC）\n",
      "行政長官賀一誠會見紀念“五•四”青年節系列活動籌備委員會一行\n",
      "行政長官賀一誠會見紀念“五四”青年節系列活動籌備委員會一行\n",
      "“五‧一”迎客：加推酒店購物美食優惠\n",
      "衛生局（SS）\n"
     ]
    }
   ],
   "source": [
    "import requests\n",
    "from bs4 import BeautifulSoup\n",
    "\n",
    "url = \"https://www.gov.mo/zh-hant/news/\"\n",
    "page = requests.get(url)\n",
    "\n",
    "soup = BeautifulSoup(page.content, 'html.parser')\n",
    "\n",
    "news_container = soup.select('div.news--item-body')\n",
    "for news in news_container:\n",
    "    title = news.find('a')\n",
    "    if title is not None:\n",
    "        print(title.text)\n",
    "        \n",
    "# Not yet finished"
   ]
  },
  {
   "cell_type": "markdown",
   "metadata": {},
   "source": [
    "1. 出現問題：同一個網頁內有兩款不同排版的消息\n",
    "\n",
    "![](images/scraping_issue_1.png)\n",
    "\n",
    "2. 解決方法之一\n",
    "\n",
    "- 先從 .news--item-head 找尋 h3；\n",
    "- 如果沒有，則在 .news--item-body 找尋 h3。"
   ]
  },
  {
   "cell_type": "markdown",
   "metadata": {},
   "source": [
    "## 如何繼續抓取其他內容\n",
    "\n",
    "1. 在合理的時間內抓取  \n",
    "2. 將工作排隊進行"
   ]
  },
  {
   "cell_type": "markdown",
   "metadata": {},
   "source": [
    "### 在合理的時間內抓取\n",
    "\n",
    "可以使用 `time.sleep(seconds)` 將程式延遲執行程式，等待數秒後繼續執行。"
   ]
  },
  {
   "cell_type": "code",
   "execution_count": 19,
   "metadata": {},
   "outputs": [
    {
     "name": "stdout",
     "output_type": "stream",
     "text": [
      "Request without delay\n",
      "Fetching http://www.google.com/1.html...\n",
      "Fetching http://www.google.com/2.html...\n",
      "Fetching http://www.google.com/3.html...\n",
      "Time used: 2.9802322387695312e-05 seconds\n",
      "Request with delay\n",
      "Fetching http://www.google.com/1.html...\n",
      "Fetching http://www.google.com/2.html...\n",
      "Fetching http://www.google.com/3.html...\n",
      "Time used: 3.0016019344329834 seconds\n"
     ]
    }
   ],
   "source": [
    "# Sending request with delay\n",
    "import time\n",
    "\n",
    "urls = ['http://www.google.com/1.html', 'http://www.google.com/2.html', 'http://www.google.com/3.html']\n",
    "\n",
    "def request_without_delay():\n",
    "    startTime = time.time()\n",
    "    for url in urls:\n",
    "        print(f\"Fetching {url}...\")\n",
    "    executionTime = time.time() - startTime\n",
    "    print(f'Time used: {executionTime} seconds')\n",
    "\n",
    "\n",
    "def request_with_delay():\n",
    "    startTime = time.time()\n",
    "    for url in urls:\n",
    "        print(f\"Fetching {url}...\")\n",
    "        time.sleep(1) # Sleep for 1 seconds\n",
    "    executionTime = time.time() - startTime\n",
    "    print(f'Time used: {executionTime} seconds')\n",
    "\n",
    "\n",
    "print('Request without delay')\n",
    "request_without_delay()\n",
    "\n",
    "print('Request with delay')\n",
    "request_with_delay()"
   ]
  },
  {
   "cell_type": "markdown",
   "metadata": {},
   "source": [
    "** 3.314018249511719e-05 seconds ~ 0.0000331401824951 seconds "
   ]
  },
  {
   "cell_type": "markdown",
   "metadata": {},
   "source": [
    "### 將工作排隊進行\n",
    "\n",
    "![](images/queue_1.png)\n",
    "\n",
    "- 使用 `list.pop(0)` 將內容由 list 的開頭抽出；\n",
    "- 使用 `list.append(x)` 將 x 加入到 list 的最後。"
   ]
  },
  {
   "cell_type": "code",
   "execution_count": 20,
   "metadata": {},
   "outputs": [
    {
     "name": "stdout",
     "output_type": "stream",
     "text": [
      "processing 1\n",
      "add new item 2\n",
      "processing 2\n",
      "add new item 3\n",
      "processing 3\n",
      "add new item 4\n",
      "processing 4\n",
      "add new item 5\n",
      "processing 5\n",
      "add new item 6\n",
      "processing 6\n",
      "add new item 7\n",
      "processing 7\n",
      "add new item 8\n",
      "processing 8\n",
      "add new item 9\n",
      "processing 9\n",
      "add new item 10\n",
      "processing 10\n",
      "add new item 11\n",
      "processing stopped because count >= 10, new item will not be processed\n"
     ]
    }
   ],
   "source": [
    "# queue example\n",
    "\n",
    "count = 0 # keep track of count to stop when count reaches 10\n",
    "queue = [1]\n",
    "while len(queue) > 0 and count < 10:\n",
    "    item = queue.pop(0) # fetch the first item\n",
    "    print(f'processing {item}')\n",
    "    new_item = item + 1\n",
    "    queue.append(new_item)\n",
    "    print(f'add new item {new_item}')\n",
    "    count += 1\n",
    "    if count >= 10:\n",
    "        print('processing stopped because count >= 10, new item will not be processed')"
   ]
  },
  {
   "cell_type": "markdown",
   "metadata": {},
   "source": [
    "👉 將暫停和排隊功能應用到 Web Scraping 的處理上..."
   ]
  }
 ],
 "metadata": {
  "interpreter": {
   "hash": "aee8b7b246df8f9039afb4144a1f6fd8d2ca17a180786b69acc140d282b71a49"
  },
  "kernelspec": {
   "display_name": "Python 3.9.7 64-bit",
   "language": "python",
   "name": "python3"
  },
  "language_info": {
   "codemirror_mode": {
    "name": "ipython",
    "version": 3
   },
   "file_extension": ".py",
   "mimetype": "text/x-python",
   "name": "python",
   "nbconvert_exporter": "python",
   "pygments_lexer": "ipython3",
   "version": "3.9.7"
  },
  "orig_nbformat": 4
 },
 "nbformat": 4,
 "nbformat_minor": 2
}
