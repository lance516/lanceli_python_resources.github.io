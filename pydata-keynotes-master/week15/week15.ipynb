{
 "cells": [
  {
   "cell_type": "markdown",
   "metadata": {},
   "source": [
    "# Python & Data - Week 15\n",
    "\n",
    "## 格式與資料交換 (上)\n",
    "\n",
    "1. HTML 格式介紹  \n",
    "\n",
    "    1.1 CSS Selector\n",
    "\n",
    "2. XML 格式介紹\n",
    "3. JSON 格式介紹"
   ]
  },
  {
   "cell_type": "markdown",
   "metadata": {},
   "source": [
    "## 為甚麼需要特定的格式?\n",
    "\n",
    "1. 允計不同的程式之間互相溝通\n",
    "2. 使程式(較)容易處理資料\n",
    "3. 不會(減少)發生例外情況(驚嚇)\n",
    "\n",
    "## 為甚麼需要不同的格式?\n",
    "\n",
    "世界上沒有一種格式能表達所有的東西，我們需要因應情況使用不同的格式"
   ]
  },
  {
   "cell_type": "markdown",
   "metadata": {},
   "source": [
    "## HTML 格式\n",
    "\n",
    "```html\n",
    "<html>\n",
    "    <head>\n",
    "        <!-- comment here -->\n",
    "        <!-- This is title -->\n",
    "        <title>This is browser title</title>\n",
    "        <!-- copied from gov.mo -->\n",
    "        <meta property=\"og:url\" content=\"https://www.gov.mo/zh-hant/\"/>\n",
    "        <meta property=\"og:title\" content=\"澳門特別行政區政府入口網站\"/>\n",
    "        <meta property=\"og:site_name\" content=\"澳門特別行政區政府入口網站\"/>\n",
    "        <meta property=\"og:description\" content=\"\"/>\n",
    "        <meta property=\"og:type\" content=\"website\"/>\n",
    "        <meta property=\"og:image\" content=\"https://www.gov.mo/wp-content/static/img/macau-sar-emblem-128x128.png\"/>\n",
    "        <meta property=\"og:locale\" content=\"zh_hk\"/>\n",
    "    </head>\n",
    "    <body>\n",
    "        <section>\n",
    "            <header>\n",
    "                <h1>Title</h1>\n",
    "            </header>\n",
    "            <div>\n",
    "                <p>This is content</p>\n",
    "            </div>\n",
    "        </section>\n",
    "    </body>\n",
    "</html>\n",
    "```"
   ]
  },
  {
   "cell_type": "markdown",
   "metadata": {},
   "source": [
    "## HTML 樹狀結構\n",
    "\n",
    "```\n",
    "HTML\n",
    "    HEAD\n",
    "        TITLE\n",
    "        META\n",
    "        META\n",
    "        META\n",
    "        META\n",
    "        META\n",
    "        META\n",
    "        META\n",
    "    BODY\n",
    "        SECTION\n",
    "            HEADER\n",
    "                H1\n",
    "            DIV\n",
    "                P\n",
    "```"
   ]
  },
  {
   "cell_type": "markdown",
   "metadata": {},
   "source": [
    "![HTML](./images/html_tags.png)"
   ]
  },
  {
   "cell_type": "markdown",
   "metadata": {},
   "source": [
    "## CSS Selector\n",
    "\n",
    "- CSS 用於為 HTML 加入樣式，如：字體大小、顏色、粗幼、外框、背景顏色...\n",
    "- CSS Selector 用於指定這些樣式套用到 HTML 的甚麼地方\n",
    "\n",
    "測試：[CSS Selector Tester](https://www.w3schools.com/cssref/trysel.asp)"
   ]
  },
  {
   "cell_type": "markdown",
   "metadata": {},
   "source": [
    "### 基本的 CSS Selector\n",
    "\n",
    "![CSS Selector](./images/css_selector.png)\n",
    "\n",
    "![CSS Selector](./images/css_selector2.png)\n",
    "\n",
    "![CSS Selector](./images/css_selector3.png)\n",
    "\n",
    "![CSS Selector](./images/css_selector4.png)\n",
    "\n",
    "參考：[CSS Selector - MDN](https://developer.mozilla.org/en-US/docs/Web/CSS/CSS_Selectors)"
   ]
  },
  {
   "cell_type": "markdown",
   "metadata": {},
   "source": [
    "## 用 HTML 表示一個 Table\n",
    "\n",
    "![Table in Word](./images/table.png)"
   ]
  },
  {
   "cell_type": "markdown",
   "metadata": {},
   "source": [
    "```html\n",
    "<table>\n",
    "    <thead>\n",
    "        <tr> <!-- 標題行 (row) -->\n",
    "            <th>日期</th> <!-- 第一列 (column) -->\n",
    "            <th></th>\n",
    "            <th>因由</th>\n",
    "        </tr>\n",
    "    </thead>\n",
    "    <tbody>\n",
    "        <tr> <!-- 第一行 (row) -->\n",
    "            <th>1月1日</th>\n",
    "            <th>星期六</th>\n",
    "            <th>元旦</th>\n",
    "        </tr>\n",
    "        <tr>\n",
    "            <th>1月1日</th>\n",
    "            <th>星期六</th>\n",
    "            <th>元旦</th>\n",
    "        </tr>\n",
    "        <!-- etc -->\n",
    "    </tbody>\n",
    "</table>\n",
    "```"
   ]
  },
  {
   "cell_type": "markdown",
   "metadata": {},
   "source": [
    "## XML 是甚麼?\n",
    "\n",
    "- XML 與 HTML 具有相類似的語法\n",
    "- 歷史上是由 HTML 變化出來\n",
    "- XML 是一種較一般化的格式。一般而言，在 XML 所定義的 Tag 沒有特別意思\n",
    "- XML 是早期電腦系統之間用於交換資料的其中一種共通語言\n",
    "\n",
    "### 例如：\n",
    "\n",
    "```xml\n",
    "<?xml version=\"1.0\" encoding=\"UTF-8\"?>\n",
    "<users>\n",
    "    <user>\n",
    "        <first-name>Peter</first-name>\n",
    "        <last-name>Chan</last-name>\n",
    "        <age>15</age>\n",
    "    </user>\n",
    "    <user>\n",
    "        <first-name>Mary</first-name>\n",
    "        <last-name>Lui</last-name>\n",
    "        <age>20</age>\n",
    "    </user>\n",
    "</users>\n",
    "```\n",
    "\n",
    "### 可以有另一種方式表示相同的資料:\n",
    "\n",
    "```xml\n",
    "<?xml version=\"1.0\" encoding=\"UTF-8\"?>\n",
    "<users>\n",
    "    <user first-name=\"Peter\" last-name=\"Chan\" age=\"15\" />\n",
    "    <user first-name=\"Mary\" last-name=\"Lui\" age=\"20\" />\n",
    "</users>\n",
    "```"
   ]
  },
  {
   "cell_type": "markdown",
   "metadata": {},
   "source": [
    "## 下一回\n",
    "\n",
    "- 介紹讀取 XML 的方法 (Untangle)\n",
    "- JSON 介紹"
   ]
  }
 ],
 "metadata": {
  "interpreter": {
   "hash": "aee8b7b246df8f9039afb4144a1f6fd8d2ca17a180786b69acc140d282b71a49"
  },
  "kernelspec": {
   "display_name": "Python 3.9.7 64-bit",
   "language": "python",
   "name": "python3"
  },
  "language_info": {
   "name": "python",
   "version": "3.9.7"
  },
  "orig_nbformat": 4
 },
 "nbformat": 4,
 "nbformat_minor": 2
}
