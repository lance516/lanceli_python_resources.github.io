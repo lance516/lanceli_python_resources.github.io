{
 "cells": [
  {
   "cell_type": "markdown",
   "metadata": {},
   "source": [
    "# Python & Data - Week 2\n",
    "\n",
    "問題：如何得知兩個檔案的內容是否一樣?\n",
    "\n",
    "## 本週內容\n",
    "\n",
    "1. [Cheatsheet](cheatsheet2.html) | [ipynb 檔案](cheatsheet2.ipynb)\n",
    "2. [Weekly Challenge](challenge2.html) | [ipynb 檔案](challenge2.ipynb)\n",
    "\n",
    "[打包下載](../week2.zip)"
   ]
  },
  {
   "cell_type": "code",
   "execution_count": 1,
   "metadata": {},
   "outputs": [],
   "source": [
    "# Imports\n",
    "import os\n",
    "import time\n",
    "import hashlib"
   ]
  },
  {
   "cell_type": "markdown",
   "metadata": {},
   "source": [
    "## 讀取檔案 (Text 模式)"
   ]
  },
  {
   "cell_type": "code",
   "execution_count": 2,
   "metadata": {},
   "outputs": [
    {
     "name": "stdout",
     "output_type": "stream",
     "text": [
      "Hi! This is file 1.\n",
      "\n",
      "Hi! This is file 2.\n",
      "\n"
     ]
    }
   ],
   "source": [
    "# open file1.txt\n",
    "with open(\"data/file1.txt\") as f:\n",
    "    # prints only one line (with line ending at the end)\n",
    "    print(f.readline())\n",
    "\n",
    "# open file2.txt\n",
    "with open(\"data/file2.txt\") as f:\n",
    "    # prints only one line (with line ending at the end)\n",
    "    print(f.readline())"
   ]
  },
  {
   "cell_type": "markdown",
   "metadata": {},
   "source": [
    "## 比較檔案內容"
   ]
  },
  {
   "cell_type": "code",
   "execution_count": 3,
   "metadata": {},
   "outputs": [
    {
     "name": "stdout",
     "output_type": "stream",
     "text": [
      "file1.txt and file1_copy.txt is the same\n"
     ]
    }
   ],
   "source": [
    "same_file = True\n",
    "# open file1_copy.txt\n",
    "with open(\"data/file1_copy.txt\") as f1:\n",
    "    # open file1.txt\n",
    "    with open(\"data/file1.txt\") as f2:\n",
    "        if f1.readline() != f2.readline():\n",
    "            same_file = False\n",
    "\n",
    "if same_file:\n",
    "    print(\"file1.txt and file1_copy.txt is the same\")\n",
    "else:\n",
    "    print(\"file1.txt and file1_copy.txt is NOT the same\")"
   ]
  },
  {
   "cell_type": "markdown",
   "metadata": {},
   "source": [
    "## 取得檔案大小"
   ]
  },
  {
   "cell_type": "code",
   "execution_count": 4,
   "metadata": {},
   "outputs": [
    {
     "name": "stdout",
     "output_type": "stream",
     "text": [
      "Size of file1.txt 37 bytes\n",
      "Size of file2.txt 37 bytes\n"
     ]
    }
   ],
   "source": [
    "size = os.path.getsize(\"data/file1.txt\")\n",
    "print(f'Size of file1.txt {size} bytes')\n",
    "\n",
    "size = os.path.getsize(\"data/file2.txt\")\n",
    "print(f'Size of file2.txt {size} bytes')"
   ]
  },
  {
   "cell_type": "markdown",
   "metadata": {},
   "source": [
    "## 取得檔案建立日期"
   ]
  },
  {
   "cell_type": "code",
   "execution_count": 5,
   "metadata": {},
   "outputs": [
    {
     "name": "stdout",
     "output_type": "stream",
     "text": [
      "1638844711.2520077\n",
      "Tue Dec  7 10:38:31 2021\n"
     ]
    }
   ],
   "source": [
    "created_ts = os.path.getctime('data/file1.txt')\n",
    "print(f'{created_ts}')\n",
    "\n",
    "created_time = time.ctime(created_ts)\n",
    "print(f'{created_time}')"
   ]
  },
  {
   "cell_type": "markdown",
   "metadata": {},
   "source": [
    "## 獲得檔案的 HASH\n",
    "\n",
    "### 甚麼是 Hash?\n",
    "\n",
    "* 對於一個檔案來說, Hash 像是一個檔案的指紋；\n",
    "* Hash 是一個數學算法，當你輸入某一個值，這個算法總會得出相同的結果；\n",
    "* Hash 是無法逆向計算的(某程度上是)。\n",
    "\n",
    "### Hash 的用途\n",
    "\n",
    "* 用於加密（密碼）的用途；\n",
    "* 用於檢查一個檔案是否完整（例如從網絡上下載的檔案是否完整或經過修改）\n",
    "\n",
    "### Hash Function 的種類和輸出長度\n",
    "\n",
    "* MD5 - 128 bit (不適合用於加密用途)\n",
    "* SHA-1 - 160 bit (不適合用於加密用途)\n",
    "* SHA-256 / SHA-512 - 256 bit / 512 bit"
   ]
  },
  {
   "cell_type": "code",
   "execution_count": 6,
   "metadata": {},
   "outputs": [
    {
     "name": "stdout",
     "output_type": "stream",
     "text": [
      "Hash of file1.txt is 4ee3673447c6b4f860b2db83ec823ac73c3a39f0\n",
      "Hash of file2.txt is 01f5a8326e391a56a3346ebf98e73af2b1adc7ea\n",
      "Hash of file2.txt is 4ee3673447c6b4f860b2db83ec823ac73c3a39f0\n"
     ]
    }
   ],
   "source": [
    "h = hashlib.sha1()\n",
    "\n",
    "def hash_file(filename):\n",
    "   \"\"\"\"This function returns the SHA-1 hash\n",
    "   of the file passed into it\"\"\"\n",
    "\n",
    "   # make a hash object\n",
    "   h = hashlib.sha1()\n",
    "\n",
    "   # open file for reading in binary mode\n",
    "   with open(filename,'rb') as file:\n",
    "       # loop till the end of the file\n",
    "       chunk = 0\n",
    "       while chunk != b'':\n",
    "           # read only 1024 bytes at a time\n",
    "           chunk = file.read(1024)\n",
    "           h.update(chunk)\n",
    "\n",
    "   # return the hex representation of digest\n",
    "   return h.hexdigest()\n",
    "\n",
    "\n",
    "hash1 = hash_file(\"data/file1.txt\")\n",
    "print(f'Hash of file1.txt is {hash1}')\n",
    "\n",
    "hash2 = hash_file(\"data/file2.txt\")\n",
    "print(f'Hash of file2.txt is {hash2}')\n",
    "\n",
    "hash3 = hash_file(\"data/file1_copy.txt\")\n",
    "print(f'Hash of file2.txt is {hash3}')"
   ]
  },
  {
   "cell_type": "markdown",
   "metadata": {},
   "source": [
    "## 列出資料夾\n",
    "\n",
    "`os.listdir` 會返回 iterator, 你可以用它列出某個資料夾內的每個檔案/資料夾名稱。"
   ]
  },
  {
   "cell_type": "code",
   "execution_count": 7,
   "metadata": {},
   "outputs": [
    {
     "name": "stdout",
     "output_type": "stream",
     "text": [
      "data/file2.txt is file\n",
      "data/file1.txt is file\n",
      "data/.DS_Store is file\n",
      "data/file1_copy.txt is file\n",
      "data/sub_folder is directory\n"
     ]
    }
   ],
   "source": [
    "dirname = 'data'\n",
    "\n",
    "for filename in os.listdir(dirname):\n",
    "    f = os.path.join(dirname, filename)\n",
    "    \n",
    "    if os.path.isfile(f):\n",
    "        print(f'{f} is file')\n",
    "    elif os.path.isdir(f):\n",
    "        print(f'{f} is directory')"
   ]
  }
 ],
 "metadata": {
  "interpreter": {
   "hash": "b0fa6594d8f4cbf19f97940f81e996739fb7646882a419484c72d19e05852a7e"
  },
  "kernelspec": {
   "display_name": "Python 3.9.9 64-bit",
   "language": "python",
   "name": "python3"
  },
  "language_info": {
   "codemirror_mode": {
    "name": "ipython",
    "version": 3
   },
   "file_extension": ".py",
   "mimetype": "text/x-python",
   "name": "python",
   "nbconvert_exporter": "python",
   "pygments_lexer": "ipython3",
   "version": "3.9.7"
  },
  "orig_nbformat": 4
 },
 "nbformat": 4,
 "nbformat_minor": 2
}
