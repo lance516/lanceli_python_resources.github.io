{
 "cells": [
  {
   "cell_type": "markdown",
   "metadata": {},
   "source": [
    "# Python & Data - Week 8\n",
    "\n",
    "[打包下載](../week8.zip)"
   ]
  },
  {
   "cell_type": "markdown",
   "metadata": {},
   "source": [
    "## Python 解難賽\n",
    "\n",
    "https://www.cpttm.org.mo/ist/it-competitions/%e5%85%a8%e6%be%b3%e4%b8%ad%e5%ad%b8%e7%94%9fpython%e8%a7%a3%e9%9b%a3%e5%a4%a7%e8%b3%bd/%e7%ac%ac%e4%b8%80%e5%b1%86%e5%85%a8%e6%be%b3%e4%b8%ad%e5%ad%b8%e7%94%9fpython%e8%a7%a3%e9%9b%a3%e5%a4%a7%e8%b3%bd/"
   ]
  },
  {
   "cell_type": "markdown",
   "metadata": {},
   "source": [
    "## 新目標 (草案)\n",
    "\n",
    "目的：通過編寫Python 程式，從網絡上取得資料、處理、輸出結果；題目自定，並與導師相討，共同制定目標。  \n",
    "形式：兩人一組共同解決一個難題。  \n",
    "時間：本年度學期完結前完成。"
   ]
  },
  {
   "cell_type": "markdown",
   "metadata": {},
   "source": [
    "## 本期內容\n",
    "\n",
    "目的：將培正網站 (http://www.puiching.edu.mo/news) 歷年新聞轉移到新平台 (Web Scraping)\n",
    "\n",
    "### 為甚麼?\n",
    "\n",
    "- 改善原有使用體驗（例如另設網站加入按年份搜尋的功能）\n",
    "- 資料挖掘及統計 (例如找出某位同學出現在消息的次數)\n",
    "- 轉移資料 (例如將資料轉移到新網站)\n",
    "\n",
    "![News Page](./images/pcms_news.png)"
   ]
  },
  {
   "cell_type": "markdown",
   "metadata": {},
   "source": [
    "### 內容\n",
    "\n",
    "Python 的用途：\n",
    "1. \"瀏覽\" 網站讀取資料\n",
    "2. 辨識網站上有用的資料，作進一步處理\n",
    "3. 將資料按一定結構放到檔案或資料庫\n",
    "\n",
    "步驟（預計)：\n",
    "\n",
    "1. 評估可行性\n",
    "2. 尋找規律\n",
    "3. 編寫測試程式片段\n",
    "4. 實作程式及運行\n",
    "5. 其他注意事項"
   ]
  },
  {
   "cell_type": "markdown",
   "metadata": {},
   "source": [
    "### 評估可行性\n",
    "\n",
    "1. 是否有其他解決方法?\n",
    "\n",
    "Web Scraping 應該作為解決問題的最後手段，如可行，應使用 API (Application Programming Interface)，獲取資料。現在很多機構 (例如：data.gov.mo) 都會提供 API，使用 API 比 Web Scraping 容易。"
   ]
  },
  {
   "cell_type": "markdown",
   "metadata": {},
   "source": [
    "2. 網站的使用許可是否容許\n",
    "\n",
    "![Terms and Conditions](./images/terms_usage.png)\n",
    "\n",
    "3. 技術上是否可行?\n",
    "\n",
    "![Captcha](./images/image-captcha-example.png)\n",
    "\n",
    "同時要注意的是，很多網站會限制一定時間內的訪問量 (例如一分鐘內有多少個連線)。而在道德上，我們也應該限制我們的連線速度，減少影響其他使用者。"
   ]
  },
  {
   "cell_type": "markdown",
   "metadata": {},
   "source": [
    "### 尋找規律\n",
    "\n",
    "1. 使用一般的方式瀏覽網站，辨識適合用於挖掘的部分\n",
    "\n",
    "![培正首頁](./images/pcms_homepage.png)"
   ]
  },
  {
   "cell_type": "markdown",
   "metadata": {},
   "source": [
    "2. 找出網址的規律\n",
    "\n",
    "![培正消息](./images/pcms_news.png)\n",
    "\n",
    "![培正消息](./images/pcms_newsurl.png)\n",
    "\n",
    "![培正消息](./images/pcms_pagination.png)\n",
    "\n",
    "![培正消息](./images/pcms_newsurl2.png)"
   ]
  },
  {
   "cell_type": "markdown",
   "metadata": {},
   "source": [
    "3. 辦識HTML碼中有用的部分\n",
    "\n",
    "![培正消息](./images/pcms_newsdetail.png)\n",
    "\n",
    "![培正消息](./images/pcms_newsdetailurl.png)\n",
    "\n",
    "![Web Inspector](./images/web_inspector.png)\n",
    "\n",
    "![Web Inspector](./images/web_inspector2.png)"
   ]
  },
  {
   "cell_type": "markdown",
   "metadata": {},
   "source": [
    "### 編寫測試程式片段\n",
    "\n",
    "1. 規劃程式的組成  \n",
    "   1a. \"瀏覽\" 網站取得內容 (urlrequest, file open)  \n",
    "   1b. 解析及截取有的資料片段 (regex, xml parser)  \n",
    "   1c. 轉化資料及儲存 (資料庫、檔案)  \n",
    "   1d. 整合、統計，令資料產生價值 (map, filter, reduce)  \n",
    "\n",
    "![流程](./images/scraping_flow.png)\n",
    "\n",
    "2. 將每個組成以 Function 或 Class 的型式編寫\n",
    "\n",
    "例如："
   ]
  },
  {
   "cell_type": "code",
   "execution_count": 3,
   "metadata": {},
   "outputs": [
    {
     "name": "stdout",
     "output_type": "stream",
     "text": [
      "1. Get some content from http://www.puiching.edu.mo/news\n",
      "2. Get some data from step 1: Return some result\n",
      "3. Save result: parsed result\n",
      "4. Process, count etc: parsed result\n"
     ]
    }
   ],
   "source": [
    "# Example process\n",
    "\n",
    "def run():\n",
    "    scrap_result = step1_scrap()\n",
    "    parsed_result = step2_parse(scrap_result)\n",
    "    step3_save(parsed_result)\n",
    "    step4_process(parsed_result)\n",
    "\n",
    "def step1_scrap():\n",
    "    print(\"1. Get some content from http://www.puiching.edu.mo/news\")\n",
    "    result = \"Return some result\"\n",
    "    return result\n",
    "\n",
    "def step2_parse(input):\n",
    "    print(f\"2. Get some data from step 1: {input}\")\n",
    "    parsed = \"parsed result\"\n",
    "    return parsed\n",
    "\n",
    "def step3_save(input):\n",
    "    print(f\"3. Save result: {input}\")\n",
    "\n",
    "def step4_process(input):\n",
    "    print(f\"4. Process, count etc: {input}\")\n",
    "\n",
    "\n",
    "run()"
   ]
  }
 ],
 "metadata": {
  "interpreter": {
   "hash": "aee8b7b246df8f9039afb4144a1f6fd8d2ca17a180786b69acc140d282b71a49"
  },
  "kernelspec": {
   "display_name": "Python 3.9.7 64-bit",
   "language": "python",
   "name": "python3"
  },
  "language_info": {
   "codemirror_mode": {
    "name": "ipython",
    "version": 3
   },
   "file_extension": ".py",
   "mimetype": "text/x-python",
   "name": "python",
   "nbconvert_exporter": "python",
   "pygments_lexer": "ipython3",
   "version": "3.9.7"
  },
  "orig_nbformat": 4
 },
 "nbformat": 4,
 "nbformat_minor": 2
}
