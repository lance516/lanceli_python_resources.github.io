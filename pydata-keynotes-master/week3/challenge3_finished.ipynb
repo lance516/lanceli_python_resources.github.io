{
 "cells": [
  {
   "cell_type": "markdown",
   "metadata": {},
   "source": [
    "# Challenge 3\n",
    "\n",
    "打開指定檔案，計算內容中，有多少個 \"lorem\" 並輸出結果到檔案。"
   ]
  },
  {
   "cell_type": "markdown",
   "metadata": {},
   "source": [
    "## 第一步 - 考慮使用甚麼方式計算一段文字裏有多少個指定文字\n",
    "\n",
    "* 使用 `count`"
   ]
  },
  {
   "cell_type": "code",
   "execution_count": 24,
   "metadata": {},
   "outputs": [
    {
     "data": {
      "text/plain": [
       "1"
      ]
     },
     "execution_count": 24,
     "metadata": {},
     "output_type": "execute_result"
    }
   ],
   "source": [
    "line = 'Lorem ipsum dolor sit amet, consectetur adipiscing elit.'\n",
    "\n",
    "line.count('Lorem')"
   ]
  },
  {
   "cell_type": "markdown",
   "metadata": {},
   "source": [
    "結果應為 1"
   ]
  },
  {
   "cell_type": "markdown",
   "metadata": {},
   "source": [
    "➡️ 問題： \"Lorem\" 和 \"lorem\" 是有分別的!"
   ]
  },
  {
   "cell_type": "code",
   "execution_count": 25,
   "metadata": {},
   "outputs": [
    {
     "data": {
      "text/plain": [
       "4"
      ]
     },
     "execution_count": 25,
     "metadata": {},
     "output_type": "execute_result"
    }
   ],
   "source": [
    "line = 'Lorem ipsum dolor sit amet, consectetur adipiscing elit. Lorem lorem lorem.'\n",
    "\n",
    "line.count('Lorem') # Only count uppercase (result should be 2)\n",
    "line.count('lorem') # Only count lowercase (result should be 2)\n",
    "line.lower().count('lorem') # Count upper and lower (result should be 4)"
   ]
  },
  {
   "cell_type": "markdown",
   "metadata": {},
   "source": [
    "## 第二步 - 編寫 Function `count_words`\n",
    "\n",
    "* 計算一段文字中有多少個指定的字串 \"lorem\""
   ]
  },
  {
   "cell_type": "code",
   "execution_count": 26,
   "metadata": {},
   "outputs": [],
   "source": [
    "# line 是每次讀取一行的字串\n",
    "# word 是需要尋找的文字\n",
    "def count_words(line, word):\n",
    "    return line.lower().count(word.lower()) # Try to find how many [word] in [line] and return"
   ]
  },
  {
   "cell_type": "markdown",
   "metadata": {},
   "source": [
    "## 第三步 - 讀取檔案，使用上面的 Function 處理每一行"
   ]
  },
  {
   "cell_type": "code",
   "execution_count": 27,
   "metadata": {},
   "outputs": [],
   "source": [
    "total = 0 # Result should be saved in [total]\n",
    "with open(\"data/lorem.txt\") as f: # Read data/lorem.txt\n",
    "    for line in f: # Loop through each line\n",
    "        total = total + count_words(line, 'Lorem') # Call count_words"
   ]
  },
  {
   "cell_type": "markdown",
   "metadata": {},
   "source": [
    "結果應為：`13`"
   ]
  },
  {
   "cell_type": "markdown",
   "metadata": {},
   "source": [
    "## 第四步 - 將結果寫到 challenge/result.txt"
   ]
  },
  {
   "cell_type": "code",
   "execution_count": 28,
   "metadata": {},
   "outputs": [],
   "source": [
    "# write [total] to challenge/result.txt\n",
    "with open(\"challenge/result.txt\", \"w\") as f:\n",
    "    f.write(f'{total}') "
   ]
  },
  {
   "cell_type": "markdown",
   "metadata": {},
   "source": [
    "`result.txt` 的內容應為 `13`"
   ]
  },
  {
   "cell_type": "markdown",
   "metadata": {},
   "source": [
    "---"
   ]
  },
  {
   "cell_type": "markdown",
   "metadata": {},
   "source": [
    "# 延伸功能\n",
    "\n",
    "1. 計算檔案內所有文字出現的次數\n",
    "2. 將結果按出現次數的多至少排序\n",
    "3. 將結果用以下檔式寫到 challenge/result_plus.csv 中\n",
    "```\n",
    "    lorem,10\n",
    "    test,5\n",
    "    word,1\n",
    "```\n",
    "\n",
    "## 如何處理每一行文字"
   ]
  },
  {
   "cell_type": "markdown",
   "metadata": {},
   "source": [
    "### 手動拆開每一個字\n",
    "\n",
    "➡️ 問題：不知道檔案內容有甚麼，不能使用 `count`。\n",
    "\n",
    "💡 提示：使用 `split` 拆開文字"
   ]
  },
  {
   "cell_type": "code",
   "execution_count": 29,
   "metadata": {},
   "outputs": [
    {
     "name": "stdout",
     "output_type": "stream",
     "text": [
      "['Lorem', 'ipsum', 'dolor', 'sit', 'amet,', 'consectetur', '', '', 'adipiscing', 'elit.']\n",
      "['Lorem', 'ipsum', 'dolor', 'sit', 'amet,', 'consectetur', 'adipiscing', 'elit.']\n"
     ]
    }
   ],
   "source": [
    "line = 'Lorem ipsum dolor sit amet, consectetur   adipiscing elit.'\n",
    "\n",
    "print(line.split(' ')) # Split by one space\n",
    "print(line.split()) # Split by any space(s)"
   ]
  },
  {
   "cell_type": "markdown",
   "metadata": {},
   "source": [
    "### 2. 將每一個字換成小寫，並去除標點\n",
    "\n",
    "* 用 `[str].lower()` 去將文字轉換成小寫\n",
    "* 去除標點\n",
    "    * 在每一個字使用 `[str].replace([search], [replacement])` 取代每一個符號為空白字串\n",
    "    * 使用 `re.sub([regex], [replacement], [str])` 取代任何符號為空白字串"
   ]
  },
  {
   "cell_type": "code",
   "execution_count": 30,
   "metadata": {},
   "outputs": [
    {
     "name": "stdout",
     "output_type": "stream",
     "text": [
      "lorem\n",
      "ipsum\n",
      "elit.\n"
     ]
    }
   ],
   "source": [
    "word_list = ['Lorem', 'ipsum', 'elit.']\n",
    "\n",
    "# Convert to lowercase\n",
    "for word in word_list:\n",
    "    print(word.lower())"
   ]
  },
  {
   "cell_type": "markdown",
   "metadata": {},
   "source": [
    "### 使用 `[str].replace`\n",
    "\n",
    "* `string.punctuation` 列出了所有符號"
   ]
  },
  {
   "cell_type": "code",
   "execution_count": 31,
   "metadata": {},
   "outputs": [
    {
     "name": "stdout",
     "output_type": "stream",
     "text": [
      "!\"#$%&'()*+,-./:;<=>?@[\\]^_`{|}~\n",
      "elit\n"
     ]
    }
   ],
   "source": [
    "import string\n",
    "print(string.punctuation)\n",
    "\n",
    "# Easy version\n",
    "word = 'elit.'\n",
    "for punc in string.punctuation:\n",
    "    word = word.replace(punc, '')\n",
    "print(word)"
   ]
  },
  {
   "cell_type": "markdown",
   "metadata": {},
   "source": [
    "### 使用 re.sub 及 re.escape\n",
    "\n",
    "* `re.sub([regex], [replacement], [str])`\n",
    "* `re.escape([str])` 用於"
   ]
  },
  {
   "cell_type": "code",
   "execution_count": 32,
   "metadata": {},
   "outputs": [
    {
     "name": "stdout",
     "output_type": "stream",
     "text": [
      "[!\"#$%&'()*+,-./:;<=>?@[\\]^_`{|}~]\n",
      "elit\n"
     ]
    }
   ],
   "source": [
    "import re\n",
    "\n",
    "# Using Regex\n",
    "word = 'elit.'\n",
    "# substitute\n",
    "new_word = re.sub('[' + re.escape(string.punctuation) + ']', '', word)\n",
    "print('[' + string.punctuation + ']')\n",
    "print(new_word)\n"
   ]
  },
  {
   "cell_type": "markdown",
   "metadata": {},
   "source": [
    "## 組合在一起\n",
    "\n",
    "1. 讀取每一行\n",
    "2. 將交由 count_words_by 處理\n",
    "   * 手動拆解每一行\n",
    "   * 將每一個字換成小寫，並去除標點\n",
    "   * 將每一個字與 counter 比對，如已有記錄，則 +1，否則建立記錄\n",
    "3. 將 counter 重新排序，並記錄到 result\n",
    "4. 將 result 按照格式寫到檔案"
   ]
  },
  {
   "cell_type": "code",
   "execution_count": 33,
   "metadata": {},
   "outputs": [],
   "source": [
    "import string\n",
    "import re\n",
    "\n",
    "# Save occurance in counter\n",
    "counter = {}\n",
    "\n",
    "# 2. Process each line\n",
    "def count_words_by(line):\n",
    "    word_list = line.split()\n",
    "    for each_word in word_list:\n",
    "        word_to_search = re.sub('[' + re.escape(string.punctuation) + ']', '', each_word.lower())\n",
    "\n",
    "        if word_to_search in counter:\n",
    "            counter[word_to_search] += 1\n",
    "        else:\n",
    "            counter[word_to_search] = 1\n",
    "\n",
    "# 1. Open file and count words\n",
    "with open('challenge/lorem.txt') as f:\n",
    "    for line in f:\n",
    "        count_words_by(line)\n",
    "\n",
    "# 3. Sort counter and saved in result\n",
    "result = sorted(counter.items(), key=lambda tup: tup[1], reverse=True)\n",
    "\n",
    "# 4. Write result to challenge/result_plus.csv\n",
    "with open('challenge/result_plus.csv', 'w') as f:\n",
    "    for word, count in result:\n",
    "        f.write(f'{word},{count}\\n')\n",
    "    "
   ]
  },
  {
   "cell_type": "markdown",
   "metadata": {},
   "source": [
    "➡️ 問題：有多少個獨特(different)的字(word)?"
   ]
  },
  {
   "cell_type": "code",
   "execution_count": 34,
   "metadata": {},
   "outputs": [
    {
     "name": "stdout",
     "output_type": "stream",
     "text": [
      "185\n"
     ]
    }
   ],
   "source": [
    "print(len(result))"
   ]
  },
  {
   "cell_type": "markdown",
   "metadata": {},
   "source": [
    "---"
   ]
  },
  {
   "cell_type": "markdown",
   "metadata": {},
   "source": [
    "# 交功課\n",
    "\n",
    "* 將這個 Challenge 檔案及 challenge 資料夾壓縮後，交到網址 https://www.dropbox.com/request/QjAznGp5njHFX2Eh8VDQ\n",
    "* 請交功課時輸入你的名稱以作為檔案名稱：\\[name\\].zip"
   ]
  }
 ],
 "metadata": {
  "interpreter": {
   "hash": "aee8b7b246df8f9039afb4144a1f6fd8d2ca17a180786b69acc140d282b71a49"
  },
  "kernelspec": {
   "display_name": "Python 3.9.7 64-bit",
   "language": "python",
   "name": "python3"
  },
  "language_info": {
   "codemirror_mode": {
    "name": "ipython",
    "version": 3
   },
   "file_extension": ".py",
   "mimetype": "text/x-python",
   "name": "python",
   "nbconvert_exporter": "python",
   "pygments_lexer": "ipython3",
   "version": "3.9.7"
  },
  "orig_nbformat": 4
 },
 "nbformat": 4,
 "nbformat_minor": 2
}
