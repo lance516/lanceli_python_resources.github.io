{
 "cells": [
  {
   "cell_type": "markdown",
   "metadata": {},
   "source": [
    "# Challenge 3\n",
    "\n",
    "打開指定檔案，計算內容中，有多少個 \"lorem\" 並輸出結果到檔案。"
   ]
  },
  {
   "cell_type": "markdown",
   "metadata": {},
   "source": [
    "## 第一步 - 考慮使用甚麼方式計算一段文字裏有多少個指定文字\n",
    "\n",
    "* 使用 `count`"
   ]
  },
  {
   "cell_type": "code",
   "execution_count": null,
   "metadata": {},
   "outputs": [],
   "source": [
    "line = 'Lorem ipsum dolor sit amet, consectetur adipiscing elit.'\n",
    "\n",
    "pass # use [str].count to find occurrence"
   ]
  },
  {
   "cell_type": "markdown",
   "metadata": {},
   "source": [
    "結果應為 1"
   ]
  },
  {
   "cell_type": "markdown",
   "metadata": {},
   "source": [
    "➡️ 問題： \"Lorem\" 和 \"lorem\" 是有分別的!"
   ]
  },
  {
   "cell_type": "code",
   "execution_count": null,
   "metadata": {},
   "outputs": [],
   "source": [
    "line = 'Lorem ipsum dolor sit amet, consectetur adipiscing elit. Lorem lorem lorem.'\n",
    "\n",
    "pass # Only count uppercase (result should be 2)\n",
    "pass # Only count lowercase (result should be 2)\n",
    "pass # Count upper and lower (result should be 4)"
   ]
  },
  {
   "cell_type": "markdown",
   "metadata": {},
   "source": [
    "## 第二步 - 編寫 Function `count_words`\n",
    "\n",
    "* 計算一段文字中有多少個指定的字串 \"lorem\""
   ]
  },
  {
   "cell_type": "code",
   "execution_count": null,
   "metadata": {},
   "outputs": [],
   "source": [
    "# line 是每次讀取一行的字串\n",
    "# word 是需要尋找的文字\n",
    "def count_words(line, word):\n",
    "    pass # Try to find how many [word] in [line] and return"
   ]
  },
  {
   "cell_type": "markdown",
   "metadata": {},
   "source": [
    "## 第三步 - 讀取檔案，使用上面的 Function 處理每一行"
   ]
  },
  {
   "cell_type": "code",
   "execution_count": null,
   "metadata": {},
   "outputs": [],
   "source": [
    "total = 0 # Result should be saved in [total]\n",
    "# Read data/lorem.txt\n",
    "    # Loop through each line\n",
    "        # Call count_words"
   ]
  },
  {
   "cell_type": "markdown",
   "metadata": {},
   "source": [
    "結果應為：`13`"
   ]
  },
  {
   "cell_type": "markdown",
   "metadata": {},
   "source": [
    "## 第四步 - 將結果寫到 challenge/result.txt"
   ]
  },
  {
   "cell_type": "code",
   "execution_count": null,
   "metadata": {},
   "outputs": [],
   "source": [
    "# write [total] to challenge/result.txt"
   ]
  },
  {
   "cell_type": "markdown",
   "metadata": {},
   "source": [
    "`result.txt` 的內容應為 `13`"
   ]
  },
  {
   "cell_type": "markdown",
   "metadata": {},
   "source": [
    "---"
   ]
  },
  {
   "cell_type": "markdown",
   "metadata": {},
   "source": [
    "# 延伸功能\n",
    "\n",
    "1. 計算檔案內所有文字出現的次數\n",
    "2. 將結果按出現次數的多至少排序\n",
    "3. 將結果用以下檔式寫到 challenge/result_plus.csv 中\n",
    "```\n",
    "    lorem,10\n",
    "    test,5\n",
    "    word,1\n",
    "```\n",
    "\n",
    "## 如何處理每一行文字"
   ]
  },
  {
   "cell_type": "markdown",
   "metadata": {},
   "source": [
    "### 手動拆開每一個字\n",
    "\n",
    "➡️ 問題：不知道檔案內容有甚麼，不能使用 `count`。\n",
    "\n",
    "💡 提示：使用 `split` 拆開文字"
   ]
  },
  {
   "cell_type": "code",
   "execution_count": null,
   "metadata": {},
   "outputs": [],
   "source": [
    "line = 'Lorem ipsum dolor sit amet, consectetur   adipiscing elit.'\n",
    "\n",
    "# Split by one space\n",
    "# Split by any space(s)"
   ]
  },
  {
   "cell_type": "markdown",
   "metadata": {},
   "source": [
    "### 2. 將每一個字換成小寫，並去除標點\n",
    "\n",
    "* 用 `[str].lower()` 去將文字轉換成小寫\n",
    "* 去除標點\n",
    "    * 在每一個字使用 `[str].replace([search], [replacement])` 取代每一個符號為空白字串\n",
    "    * 使用 `re.sub([regex], [replacement], [str])` 取代任何符號為空白字串"
   ]
  },
  {
   "cell_type": "code",
   "execution_count": null,
   "metadata": {},
   "outputs": [],
   "source": [
    "word_list = ['Lorem', 'ipsum', 'elit.']\n",
    "\n",
    "# Convert every [word] to lowercase\n",
    "for word in word_list:\n",
    "    pass "
   ]
  },
  {
   "cell_type": "markdown",
   "metadata": {},
   "source": [
    "### 使用 `[str].replace`\n",
    "\n",
    "* `string.punctuation` 列出了所有符號"
   ]
  },
  {
   "cell_type": "code",
   "execution_count": null,
   "metadata": {},
   "outputs": [],
   "source": [
    "import string\n",
    "print(string.punctuation)\n",
    "\n",
    "# Easy version\n",
    "word = 'elit.'\n",
    "\n",
    "# Replace punctuation in word by calling [str].replace() in with each punctuation"
   ]
  },
  {
   "cell_type": "markdown",
   "metadata": {},
   "source": [
    "### 使用 re.sub 及 re.escape\n",
    "\n",
    "* `re.sub([regex], [replacement], [str])`\n",
    "* `re.escape([str])` 用於避免需要匹配 (match) 的文字與 Regular Expression 衝突\n",
    "\n",
    "![Regular Expression](re.jpg)"
   ]
  },
  {
   "cell_type": "code",
   "execution_count": null,
   "metadata": {},
   "outputs": [],
   "source": [
    "import re\n",
    "\n",
    "# Using Regex\n",
    "word = 'elit.'\n",
    "\n",
    "# use re.sub (substitute) to replace any punctuation in list"
   ]
  },
  {
   "cell_type": "markdown",
   "metadata": {},
   "source": [
    "## 組合在一起\n",
    "\n",
    "1. 讀取每一行\n",
    "2. 將交由 count_words_by 處理\n",
    "   * 手動拆解每一行\n",
    "   * 將每一個字換成小寫，並去除標點\n",
    "   * 將每一個字與 counter 比對，如已有記錄，則 +1，否則建立記錄\n",
    "3. 將 counter 重新排序，並記錄到 result\n",
    "4. 將 result 按照格式寫到檔案"
   ]
  },
  {
   "cell_type": "code",
   "execution_count": null,
   "metadata": {},
   "outputs": [],
   "source": [
    "import string\n",
    "import re\n",
    "\n",
    "# Save occurance in counter\n",
    "counter = {}\n",
    "\n",
    "# 2. Process each line\n",
    "def count_words_by(line):\n",
    "    pass # Count words in each line\n",
    "\n",
    "# 1. Open file and count words\n",
    "with open('challenge/lorem.txt') as f:\n",
    "    pass # Process each line by calling count_words_by()\n",
    "\n",
    "# 3. Sort counter and saved in result\n",
    "result = None # Sort [counter] and return to [result]\n",
    "\n",
    "# 4. Write result to challenge/result_plus.csv\n",
    "with open('challenge/result_plus.csv', 'w') as f:\n",
    "    pass # Write [result] to in defined format\n",
    "    "
   ]
  },
  {
   "cell_type": "markdown",
   "metadata": {},
   "source": [
    "➡️ 問題：有多少個獨特(different)的字(word)?"
   ]
  },
  {
   "cell_type": "code",
   "execution_count": null,
   "metadata": {},
   "outputs": [],
   "source": [
    "# Hint: use len() to find how many items in result"
   ]
  },
  {
   "cell_type": "markdown",
   "metadata": {},
   "source": [
    "---"
   ]
  },
  {
   "cell_type": "markdown",
   "metadata": {},
   "source": [
    "# 交功課\n",
    "\n",
    "* 將這個 Challenge 檔案及 challenge 資料夾壓縮後，交到網址 https://www.dropbox.com/request/QjAznGp5njHFX2Eh8VDQ\n",
    "* 請交功課時輸入你的名稱以作為檔案名稱：\\[name\\].zip\n",
    "\n",
    "\n",
    "[檢查答案](challenge3_finished.html) | [ipynb](challenge3_finished.ipynb)"
   ]
  }
 ],
 "metadata": {
  "interpreter": {
   "hash": "aee8b7b246df8f9039afb4144a1f6fd8d2ca17a180786b69acc140d282b71a49"
  },
  "kernelspec": {
   "display_name": "Python 3.9.7 64-bit",
   "language": "python",
   "name": "python3"
  },
  "language_info": {
   "codemirror_mode": {
    "name": "ipython",
    "version": 3
   },
   "file_extension": ".py",
   "mimetype": "text/x-python",
   "name": "python",
   "nbconvert_exporter": "python",
   "pygments_lexer": "ipython3",
   "version": "3.9.7"
  },
  "orig_nbformat": 4
 },
 "nbformat": 4,
 "nbformat_minor": 2
}
