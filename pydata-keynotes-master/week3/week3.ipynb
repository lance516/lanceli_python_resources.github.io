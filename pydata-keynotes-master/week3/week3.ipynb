{
 "cells": [
  {
   "cell_type": "markdown",
   "metadata": {},
   "source": [
    "# Python & Data - Week 3\n",
    "\n",
    "問題：讀取文字檔案內容並做處理\n",
    "\n",
    "## 本週內容\n",
    "\n",
    "1. [Weekly Challenge](challenge3.html) | [ipynb 檔案](challenge3.ipynb) \n",
    "\n",
    "[打包下載](../week3.zip)"
   ]
  },
  {
   "cell_type": "markdown",
   "metadata": {},
   "source": [
    "### 如何讀取一個文字檔案"
   ]
  },
  {
   "cell_type": "code",
   "execution_count": null,
   "metadata": {},
   "outputs": [],
   "source": [
    "with open(\"data/lorem.txt\") as f:\n",
    "    # prints only one line (with line ending at the end)\n",
    "    print(f.readline())"
   ]
  },
  {
   "cell_type": "markdown",
   "metadata": {},
   "source": [
    "### 如何讀取檔案的全部行"
   ]
  },
  {
   "cell_type": "code",
   "execution_count": null,
   "metadata": {},
   "outputs": [],
   "source": [
    "with open(\"data/lorem.txt\") as f:\n",
    "    for line in f:\n",
    "        print(line)"
   ]
  },
  {
   "cell_type": "markdown",
   "metadata": {},
   "source": [
    "### 如何將資料寫入一個文字檔案\n",
    "\n",
    "➡️ 在 `open()` 第二個參數使用 'w' (Write)"
   ]
  },
  {
   "cell_type": "code",
   "execution_count": null,
   "metadata": {},
   "outputs": [],
   "source": [
    "with open(\"data/write_file.txt\", 'w') as f:\n",
    "    f.writelines('Hi! My name is Samuel')\n",
    "\n",
    "# check data/write_file.txt"
   ]
  },
  {
   "cell_type": "markdown",
   "metadata": {},
   "source": [
    "### 如何將資料寫入已存在檔案的最後 (Append)?\n",
    "\n",
    "➡️ 在 `open()` 第二個參數使用 'a' (Append)"
   ]
  },
  {
   "cell_type": "code",
   "execution_count": null,
   "metadata": {},
   "outputs": [],
   "source": [
    "for i in range(1, 11): # 10 times\n",
    "    with open(\"data/append_file.txt\", 'a') as f:\n",
    "        f.writelines(f'Hi! This is the {i} time I see you!\\n') # \\n is line break\n",
    "\n",
    "# check data/append_file.txt"
   ]
  },
  {
   "cell_type": "markdown",
   "metadata": {},
   "source": [
    "### 將結果寫成特定的格式 (CSV)\n",
    "\n",
    "➡️ 有甚麼好處?\n",
    "\n",
    "💡 將資料寫成特定的格式，可以將不同的程式連接起來，交換數據和互通。使用公開的格式，可以更便利資料互通。"
   ]
  },
  {
   "cell_type": "code",
   "execution_count": null,
   "metadata": {},
   "outputs": [],
   "source": [
    "data = [\n",
    "    (\"Python\", 10),\n",
    "    (\"PHP\", 8.5),\n",
    "    (\"JavaScript\", 9.5),\n",
    "    (\"Dart\", 7),\n",
    "    (\".net\", 7.5), \n",
    "    (\"Java\", 8.5)\n",
    "]\n",
    "with open(\"data/write_csv.csv\", 'w') as f:\n",
    "    for language, score in data:\n",
    "        f.writelines(f'{language},{score}\\n')\n",
    "\n",
    "# check data/write_csv.txt"
   ]
  },
  {
   "cell_type": "markdown",
   "metadata": {},
   "source": [
    "### 讀取及寫入 UTF-8 編碼的檔案 (Python 2 only)\n",
    "\n",
    "➡️ 中文等語言，不能使用一般的 ASCII 格式讀取及儲存，需要使用 Unicode (UTF-8) 編碼。Python 3 起，UTF-8 是預設 Encoding，"
   ]
  },
  {
   "cell_type": "code",
   "execution_count": null,
   "metadata": {},
   "outputs": [],
   "source": [
    "speedy = '郵差叔叔送信純熟迅速送出🤐'\n",
    "\n",
    "with open(\"data/write_utf8.txt\", 'w', encoding='utf-8') as f:\n",
    "    f.writelines(speedy)\n",
    "\n",
    "with open(\"data/write_utf8.txt\", encoding='utf-8') as f:\n",
    "    if f.readline() == speedy:\n",
    "        print('Encoding correct')\n",
    "    else:\n",
    "        print('Encoding wrong!')"
   ]
  },
  {
   "cell_type": "markdown",
   "metadata": {},
   "source": [
    "### 還有甚麼其他的格式?\n",
    "\n",
    "#### 1. JSON (JavaScript Object Notation / 直譯：JavaScript 物件表示法)\n",
    "\n",
    "一種基於文字的資料格式，由 JavaScript 演化而成，有不少語言都內置讀取(Decode)、寫入(Encode)這個格式。\n",
    "\n",
    "特點：\n",
    "* 簡潔\n",
    "* 易讀\n",
    "* 佔用空間少"
   ]
  },
  {
   "cell_type": "markdown",
   "metadata": {},
   "source": [
    "```json\n",
    "[\n",
    "    {\n",
    "        \"name\": \"小明\",\n",
    "        \"scores\": [100, 99, 100, 80, 75]\n",
    "    },\n",
    "    {\n",
    "        \"name\": \"Samuel\",\n",
    "        \"scores\": [75, 80, 90, 99, 95]\n",
    "    }\n",
    "]\n",
    "```"
   ]
  },
  {
   "cell_type": "markdown",
   "metadata": {},
   "source": [
    "#### 2. XML (eXtensible Markup Language)\n",
    "\n",
    "一種基於文字的資料格式，由 HTML 演化成的一個標準，歷史較長，也是一種較廣為接受的格式。\n",
    "\n",
    "特點：\n",
    "\n",
    "* 能夠表示較複雜的資料類型\n",
    "* 由於使用 Tag 包住內容，能夠從 Tag 的名稱猜出含意\n",
    "* 由於歷史悠久，以及商業的支持，為較多大型軟件支持\n",
    "* 佔用空間較多\n",
    "* 結構較複雜，使用人手寫容易出錯"
   ]
  },
  {
   "cell_type": "markdown",
   "metadata": {},
   "source": [
    "```xml\n",
    "<student-scores>\n",
    "    <student name=\"小明\">\n",
    "        <scores>\n",
    "            <score>100</score>\n",
    "            <score>99</score>\n",
    "            <score>100</score>\n",
    "            <score>80</score>\n",
    "            <score>75</score>\n",
    "        </scores>\n",
    "    </student>\n",
    "    <student name=\"Samuel\">\n",
    "        <scores>\n",
    "            <score>75</score>\n",
    "            <score>80</score>\n",
    "            <score>90</score>\n",
    "            <score>99</score>\n",
    "            <score>95</score>\n",
    "        </scores>\n",
    "    </student>\n",
    "</student-scores>\n",
    "```"
   ]
  },
  {
   "cell_type": "markdown",
   "metadata": {},
   "source": [
    "#### 3. XLS / XLSX (Excel 的檔案格式)\n",
    "\n",
    "XLS 為二進制格式，XLSX 為基於 XML 的 Excel 格式。是 Microsoft Excel 的專用檔案格式，大多數程式語言都有程式庫讀取及寫入這檔案格式。\n",
    "\n",
    "特點：\n",
    "\n",
    "* 由於佔有率，較為多一般非技術人員所接受\n",
    "* 封閉的格式，較難讀取和生成 (一般要使用 Package)\n",
    "* 通常為了製作報表才使用"
   ]
  }
 ],
 "metadata": {
  "interpreter": {
   "hash": "aee8b7b246df8f9039afb4144a1f6fd8d2ca17a180786b69acc140d282b71a49"
  },
  "kernelspec": {
   "display_name": "Python 3.9.7 64-bit",
   "language": "python",
   "name": "python3"
  },
  "language_info": {
   "codemirror_mode": {
    "name": "ipython",
    "version": 3
   },
   "file_extension": ".py",
   "mimetype": "text/x-python",
   "name": "python",
   "nbconvert_exporter": "python",
   "pygments_lexer": "ipython3",
   "version": "3.9.7"
  },
  "orig_nbformat": 4
 },
 "nbformat": 4,
 "nbformat_minor": 2
}
